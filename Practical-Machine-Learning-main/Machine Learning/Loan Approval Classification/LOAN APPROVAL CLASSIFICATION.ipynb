{
 "cells": [
  {
   "cell_type": "markdown",
   "id": "e28b605f",
   "metadata": {},
   "source": [
    " M. NIVETHA <BR>  215229126"
   ]
  },
  {
   "cell_type": "markdown",
   "id": "637907fc",
   "metadata": {},
   "source": [
    "## LAB - 7 LOAN APPROVAL CLASSIFICATION USING SVM"
   ]
  },
  {
   "cell_type": "markdown",
   "id": "713135c6",
   "metadata": {},
   "source": [
    "### STEP - 1 : UNDERSTAND DATA"
   ]
  },
  {
   "cell_type": "code",
   "execution_count": 1,
   "id": "48f8d604",
   "metadata": {},
   "outputs": [],
   "source": [
    "import pandas as pd"
   ]
  },
  {
   "cell_type": "code",
   "execution_count": 2,
   "id": "1b6db423",
   "metadata": {},
   "outputs": [],
   "source": [
    "df = pd.read_csv('train_loan.csv')"
   ]
  },
  {
   "cell_type": "markdown",
   "id": "c171ea5a",
   "metadata": {},
   "source": [
    "#### PROPERTIES"
   ]
  },
  {
   "cell_type": "code",
   "execution_count": 3,
   "id": "5f7427ac",
   "metadata": {},
   "outputs": [
    {
     "data": {
      "text/html": [
       "<div>\n",
       "<style scoped>\n",
       "    .dataframe tbody tr th:only-of-type {\n",
       "        vertical-align: middle;\n",
       "    }\n",
       "\n",
       "    .dataframe tbody tr th {\n",
       "        vertical-align: top;\n",
       "    }\n",
       "\n",
       "    .dataframe thead th {\n",
       "        text-align: right;\n",
       "    }\n",
       "</style>\n",
       "<table border=\"1\" class=\"dataframe\">\n",
       "  <thead>\n",
       "    <tr style=\"text-align: right;\">\n",
       "      <th></th>\n",
       "      <th>Loan_ID</th>\n",
       "      <th>Gender</th>\n",
       "      <th>Married</th>\n",
       "      <th>Dependents</th>\n",
       "      <th>Education</th>\n",
       "      <th>Self_Employed</th>\n",
       "      <th>ApplicantIncome</th>\n",
       "      <th>CoapplicantIncome</th>\n",
       "      <th>LoanAmount</th>\n",
       "      <th>Loan_Amount_Term</th>\n",
       "      <th>Credit_History</th>\n",
       "      <th>Property_Area</th>\n",
       "      <th>Loan_Status</th>\n",
       "    </tr>\n",
       "  </thead>\n",
       "  <tbody>\n",
       "    <tr>\n",
       "      <th>0</th>\n",
       "      <td>LP001002</td>\n",
       "      <td>Male</td>\n",
       "      <td>No</td>\n",
       "      <td>0</td>\n",
       "      <td>Graduate</td>\n",
       "      <td>No</td>\n",
       "      <td>5849</td>\n",
       "      <td>0.0</td>\n",
       "      <td>NaN</td>\n",
       "      <td>360.0</td>\n",
       "      <td>1.0</td>\n",
       "      <td>Urban</td>\n",
       "      <td>Y</td>\n",
       "    </tr>\n",
       "    <tr>\n",
       "      <th>1</th>\n",
       "      <td>LP001003</td>\n",
       "      <td>Male</td>\n",
       "      <td>Yes</td>\n",
       "      <td>1</td>\n",
       "      <td>Graduate</td>\n",
       "      <td>No</td>\n",
       "      <td>4583</td>\n",
       "      <td>1508.0</td>\n",
       "      <td>128.0</td>\n",
       "      <td>360.0</td>\n",
       "      <td>1.0</td>\n",
       "      <td>Rural</td>\n",
       "      <td>N</td>\n",
       "    </tr>\n",
       "    <tr>\n",
       "      <th>2</th>\n",
       "      <td>LP001005</td>\n",
       "      <td>Male</td>\n",
       "      <td>Yes</td>\n",
       "      <td>0</td>\n",
       "      <td>Graduate</td>\n",
       "      <td>Yes</td>\n",
       "      <td>3000</td>\n",
       "      <td>0.0</td>\n",
       "      <td>66.0</td>\n",
       "      <td>360.0</td>\n",
       "      <td>1.0</td>\n",
       "      <td>Urban</td>\n",
       "      <td>Y</td>\n",
       "    </tr>\n",
       "    <tr>\n",
       "      <th>3</th>\n",
       "      <td>LP001006</td>\n",
       "      <td>Male</td>\n",
       "      <td>Yes</td>\n",
       "      <td>0</td>\n",
       "      <td>Not Graduate</td>\n",
       "      <td>No</td>\n",
       "      <td>2583</td>\n",
       "      <td>2358.0</td>\n",
       "      <td>120.0</td>\n",
       "      <td>360.0</td>\n",
       "      <td>1.0</td>\n",
       "      <td>Urban</td>\n",
       "      <td>Y</td>\n",
       "    </tr>\n",
       "    <tr>\n",
       "      <th>4</th>\n",
       "      <td>LP001008</td>\n",
       "      <td>Male</td>\n",
       "      <td>No</td>\n",
       "      <td>0</td>\n",
       "      <td>Graduate</td>\n",
       "      <td>No</td>\n",
       "      <td>6000</td>\n",
       "      <td>0.0</td>\n",
       "      <td>141.0</td>\n",
       "      <td>360.0</td>\n",
       "      <td>1.0</td>\n",
       "      <td>Urban</td>\n",
       "      <td>Y</td>\n",
       "    </tr>\n",
       "  </tbody>\n",
       "</table>\n",
       "</div>"
      ],
      "text/plain": [
       "    Loan_ID Gender Married Dependents     Education Self_Employed  \\\n",
       "0  LP001002   Male      No          0      Graduate            No   \n",
       "1  LP001003   Male     Yes          1      Graduate            No   \n",
       "2  LP001005   Male     Yes          0      Graduate           Yes   \n",
       "3  LP001006   Male     Yes          0  Not Graduate            No   \n",
       "4  LP001008   Male      No          0      Graduate            No   \n",
       "\n",
       "   ApplicantIncome  CoapplicantIncome  LoanAmount  Loan_Amount_Term  \\\n",
       "0             5849                0.0         NaN             360.0   \n",
       "1             4583             1508.0       128.0             360.0   \n",
       "2             3000                0.0        66.0             360.0   \n",
       "3             2583             2358.0       120.0             360.0   \n",
       "4             6000                0.0       141.0             360.0   \n",
       "\n",
       "   Credit_History Property_Area Loan_Status  \n",
       "0             1.0         Urban           Y  \n",
       "1             1.0         Rural           N  \n",
       "2             1.0         Urban           Y  \n",
       "3             1.0         Urban           Y  \n",
       "4             1.0         Urban           Y  "
      ]
     },
     "execution_count": 3,
     "metadata": {},
     "output_type": "execute_result"
    }
   ],
   "source": [
    "df.head()"
   ]
  },
  {
   "cell_type": "code",
   "execution_count": 4,
   "id": "f12c582e",
   "metadata": {},
   "outputs": [
    {
     "data": {
      "text/plain": [
       "(614, 13)"
      ]
     },
     "execution_count": 4,
     "metadata": {},
     "output_type": "execute_result"
    }
   ],
   "source": [
    "df.shape"
   ]
  },
  {
   "cell_type": "code",
   "execution_count": 5,
   "id": "405cf335",
   "metadata": {},
   "outputs": [
    {
     "data": {
      "text/plain": [
       "7982"
      ]
     },
     "execution_count": 5,
     "metadata": {},
     "output_type": "execute_result"
    }
   ],
   "source": [
    "df.size"
   ]
  },
  {
   "cell_type": "code",
   "execution_count": 6,
   "id": "24f392f7",
   "metadata": {},
   "outputs": [
    {
     "data": {
      "text/plain": [
       "Loan_ID               object\n",
       "Gender                object\n",
       "Married               object\n",
       "Dependents            object\n",
       "Education             object\n",
       "Self_Employed         object\n",
       "ApplicantIncome        int64\n",
       "CoapplicantIncome    float64\n",
       "LoanAmount           float64\n",
       "Loan_Amount_Term     float64\n",
       "Credit_History       float64\n",
       "Property_Area         object\n",
       "Loan_Status           object\n",
       "dtype: object"
      ]
     },
     "execution_count": 6,
     "metadata": {},
     "output_type": "execute_result"
    }
   ],
   "source": [
    "df.dtypes"
   ]
  },
  {
   "cell_type": "code",
   "execution_count": 7,
   "id": "31f72171",
   "metadata": {},
   "outputs": [
    {
     "name": "stdout",
     "output_type": "stream",
     "text": [
      "<class 'pandas.core.frame.DataFrame'>\n",
      "RangeIndex: 614 entries, 0 to 613\n",
      "Data columns (total 13 columns):\n",
      " #   Column             Non-Null Count  Dtype  \n",
      "---  ------             --------------  -----  \n",
      " 0   Loan_ID            614 non-null    object \n",
      " 1   Gender             601 non-null    object \n",
      " 2   Married            611 non-null    object \n",
      " 3   Dependents         599 non-null    object \n",
      " 4   Education          614 non-null    object \n",
      " 5   Self_Employed      582 non-null    object \n",
      " 6   ApplicantIncome    614 non-null    int64  \n",
      " 7   CoapplicantIncome  614 non-null    float64\n",
      " 8   LoanAmount         592 non-null    float64\n",
      " 9   Loan_Amount_Term   600 non-null    float64\n",
      " 10  Credit_History     564 non-null    float64\n",
      " 11  Property_Area      614 non-null    object \n",
      " 12  Loan_Status        614 non-null    object \n",
      "dtypes: float64(4), int64(1), object(8)\n",
      "memory usage: 62.5+ KB\n"
     ]
    }
   ],
   "source": [
    "df.info()"
   ]
  },
  {
   "cell_type": "code",
   "execution_count": 8,
   "id": "3f27e584",
   "metadata": {},
   "outputs": [
    {
     "data": {
      "text/plain": [
       "1.0    475\n",
       "0.0     89\n",
       "Name: Credit_History, dtype: int64"
      ]
     },
     "execution_count": 8,
     "metadata": {},
     "output_type": "execute_result"
    }
   ],
   "source": [
    "df['Credit_History'].value_counts()"
   ]
  },
  {
   "cell_type": "code",
   "execution_count": 12,
   "id": "cdd31774",
   "metadata": {},
   "outputs": [
    {
     "data": {
      "text/html": [
       "<div>\n",
       "<style scoped>\n",
       "    .dataframe tbody tr th:only-of-type {\n",
       "        vertical-align: middle;\n",
       "    }\n",
       "\n",
       "    .dataframe tbody tr th {\n",
       "        vertical-align: top;\n",
       "    }\n",
       "\n",
       "    .dataframe thead th {\n",
       "        text-align: right;\n",
       "    }\n",
       "</style>\n",
       "<table border=\"1\" class=\"dataframe\">\n",
       "  <thead>\n",
       "    <tr style=\"text-align: right;\">\n",
       "      <th></th>\n",
       "      <th>Loan_ID</th>\n",
       "      <th>Gender</th>\n",
       "      <th>Married</th>\n",
       "      <th>Dependents</th>\n",
       "      <th>Education</th>\n",
       "      <th>Self_Employed</th>\n",
       "      <th>ApplicantIncome</th>\n",
       "      <th>CoapplicantIncome</th>\n",
       "      <th>LoanAmount</th>\n",
       "      <th>Loan_Amount_Term</th>\n",
       "      <th>Credit_History</th>\n",
       "      <th>Property_Area</th>\n",
       "      <th>Loan_Status</th>\n",
       "    </tr>\n",
       "  </thead>\n",
       "  <tbody>\n",
       "    <tr>\n",
       "      <th>count</th>\n",
       "      <td>614</td>\n",
       "      <td>601</td>\n",
       "      <td>611</td>\n",
       "      <td>599</td>\n",
       "      <td>614</td>\n",
       "      <td>582</td>\n",
       "      <td>614.000000</td>\n",
       "      <td>614.000000</td>\n",
       "      <td>592.000000</td>\n",
       "      <td>600.00000</td>\n",
       "      <td>564.000000</td>\n",
       "      <td>614</td>\n",
       "      <td>614</td>\n",
       "    </tr>\n",
       "    <tr>\n",
       "      <th>unique</th>\n",
       "      <td>614</td>\n",
       "      <td>2</td>\n",
       "      <td>2</td>\n",
       "      <td>4</td>\n",
       "      <td>2</td>\n",
       "      <td>2</td>\n",
       "      <td>NaN</td>\n",
       "      <td>NaN</td>\n",
       "      <td>NaN</td>\n",
       "      <td>NaN</td>\n",
       "      <td>NaN</td>\n",
       "      <td>3</td>\n",
       "      <td>2</td>\n",
       "    </tr>\n",
       "    <tr>\n",
       "      <th>top</th>\n",
       "      <td>LP002699</td>\n",
       "      <td>Male</td>\n",
       "      <td>Yes</td>\n",
       "      <td>0</td>\n",
       "      <td>Graduate</td>\n",
       "      <td>No</td>\n",
       "      <td>NaN</td>\n",
       "      <td>NaN</td>\n",
       "      <td>NaN</td>\n",
       "      <td>NaN</td>\n",
       "      <td>NaN</td>\n",
       "      <td>Semiurban</td>\n",
       "      <td>Y</td>\n",
       "    </tr>\n",
       "    <tr>\n",
       "      <th>freq</th>\n",
       "      <td>1</td>\n",
       "      <td>489</td>\n",
       "      <td>398</td>\n",
       "      <td>345</td>\n",
       "      <td>480</td>\n",
       "      <td>500</td>\n",
       "      <td>NaN</td>\n",
       "      <td>NaN</td>\n",
       "      <td>NaN</td>\n",
       "      <td>NaN</td>\n",
       "      <td>NaN</td>\n",
       "      <td>233</td>\n",
       "      <td>422</td>\n",
       "    </tr>\n",
       "    <tr>\n",
       "      <th>mean</th>\n",
       "      <td>NaN</td>\n",
       "      <td>NaN</td>\n",
       "      <td>NaN</td>\n",
       "      <td>NaN</td>\n",
       "      <td>NaN</td>\n",
       "      <td>NaN</td>\n",
       "      <td>5403.459283</td>\n",
       "      <td>1621.245798</td>\n",
       "      <td>146.412162</td>\n",
       "      <td>342.00000</td>\n",
       "      <td>0.842199</td>\n",
       "      <td>NaN</td>\n",
       "      <td>NaN</td>\n",
       "    </tr>\n",
       "    <tr>\n",
       "      <th>std</th>\n",
       "      <td>NaN</td>\n",
       "      <td>NaN</td>\n",
       "      <td>NaN</td>\n",
       "      <td>NaN</td>\n",
       "      <td>NaN</td>\n",
       "      <td>NaN</td>\n",
       "      <td>6109.041673</td>\n",
       "      <td>2926.248369</td>\n",
       "      <td>85.587325</td>\n",
       "      <td>65.12041</td>\n",
       "      <td>0.364878</td>\n",
       "      <td>NaN</td>\n",
       "      <td>NaN</td>\n",
       "    </tr>\n",
       "    <tr>\n",
       "      <th>min</th>\n",
       "      <td>NaN</td>\n",
       "      <td>NaN</td>\n",
       "      <td>NaN</td>\n",
       "      <td>NaN</td>\n",
       "      <td>NaN</td>\n",
       "      <td>NaN</td>\n",
       "      <td>150.000000</td>\n",
       "      <td>0.000000</td>\n",
       "      <td>9.000000</td>\n",
       "      <td>12.00000</td>\n",
       "      <td>0.000000</td>\n",
       "      <td>NaN</td>\n",
       "      <td>NaN</td>\n",
       "    </tr>\n",
       "    <tr>\n",
       "      <th>25%</th>\n",
       "      <td>NaN</td>\n",
       "      <td>NaN</td>\n",
       "      <td>NaN</td>\n",
       "      <td>NaN</td>\n",
       "      <td>NaN</td>\n",
       "      <td>NaN</td>\n",
       "      <td>2877.500000</td>\n",
       "      <td>0.000000</td>\n",
       "      <td>100.000000</td>\n",
       "      <td>360.00000</td>\n",
       "      <td>1.000000</td>\n",
       "      <td>NaN</td>\n",
       "      <td>NaN</td>\n",
       "    </tr>\n",
       "    <tr>\n",
       "      <th>50%</th>\n",
       "      <td>NaN</td>\n",
       "      <td>NaN</td>\n",
       "      <td>NaN</td>\n",
       "      <td>NaN</td>\n",
       "      <td>NaN</td>\n",
       "      <td>NaN</td>\n",
       "      <td>3812.500000</td>\n",
       "      <td>1188.500000</td>\n",
       "      <td>128.000000</td>\n",
       "      <td>360.00000</td>\n",
       "      <td>1.000000</td>\n",
       "      <td>NaN</td>\n",
       "      <td>NaN</td>\n",
       "    </tr>\n",
       "    <tr>\n",
       "      <th>75%</th>\n",
       "      <td>NaN</td>\n",
       "      <td>NaN</td>\n",
       "      <td>NaN</td>\n",
       "      <td>NaN</td>\n",
       "      <td>NaN</td>\n",
       "      <td>NaN</td>\n",
       "      <td>5795.000000</td>\n",
       "      <td>2297.250000</td>\n",
       "      <td>168.000000</td>\n",
       "      <td>360.00000</td>\n",
       "      <td>1.000000</td>\n",
       "      <td>NaN</td>\n",
       "      <td>NaN</td>\n",
       "    </tr>\n",
       "    <tr>\n",
       "      <th>max</th>\n",
       "      <td>NaN</td>\n",
       "      <td>NaN</td>\n",
       "      <td>NaN</td>\n",
       "      <td>NaN</td>\n",
       "      <td>NaN</td>\n",
       "      <td>NaN</td>\n",
       "      <td>81000.000000</td>\n",
       "      <td>41667.000000</td>\n",
       "      <td>700.000000</td>\n",
       "      <td>480.00000</td>\n",
       "      <td>1.000000</td>\n",
       "      <td>NaN</td>\n",
       "      <td>NaN</td>\n",
       "    </tr>\n",
       "  </tbody>\n",
       "</table>\n",
       "</div>"
      ],
      "text/plain": [
       "         Loan_ID Gender Married Dependents Education Self_Employed  \\\n",
       "count        614    601     611        599       614           582   \n",
       "unique       614      2       2          4         2             2   \n",
       "top     LP002699   Male     Yes          0  Graduate            No   \n",
       "freq           1    489     398        345       480           500   \n",
       "mean         NaN    NaN     NaN        NaN       NaN           NaN   \n",
       "std          NaN    NaN     NaN        NaN       NaN           NaN   \n",
       "min          NaN    NaN     NaN        NaN       NaN           NaN   \n",
       "25%          NaN    NaN     NaN        NaN       NaN           NaN   \n",
       "50%          NaN    NaN     NaN        NaN       NaN           NaN   \n",
       "75%          NaN    NaN     NaN        NaN       NaN           NaN   \n",
       "max          NaN    NaN     NaN        NaN       NaN           NaN   \n",
       "\n",
       "        ApplicantIncome  CoapplicantIncome  LoanAmount  Loan_Amount_Term  \\\n",
       "count        614.000000         614.000000  592.000000         600.00000   \n",
       "unique              NaN                NaN         NaN               NaN   \n",
       "top                 NaN                NaN         NaN               NaN   \n",
       "freq                NaN                NaN         NaN               NaN   \n",
       "mean        5403.459283        1621.245798  146.412162         342.00000   \n",
       "std         6109.041673        2926.248369   85.587325          65.12041   \n",
       "min          150.000000           0.000000    9.000000          12.00000   \n",
       "25%         2877.500000           0.000000  100.000000         360.00000   \n",
       "50%         3812.500000        1188.500000  128.000000         360.00000   \n",
       "75%         5795.000000        2297.250000  168.000000         360.00000   \n",
       "max        81000.000000       41667.000000  700.000000         480.00000   \n",
       "\n",
       "        Credit_History Property_Area Loan_Status  \n",
       "count       564.000000           614         614  \n",
       "unique             NaN             3           2  \n",
       "top                NaN     Semiurban           Y  \n",
       "freq               NaN           233         422  \n",
       "mean          0.842199           NaN         NaN  \n",
       "std           0.364878           NaN         NaN  \n",
       "min           0.000000           NaN         NaN  \n",
       "25%           1.000000           NaN         NaN  \n",
       "50%           1.000000           NaN         NaN  \n",
       "75%           1.000000           NaN         NaN  \n",
       "max           1.000000           NaN         NaN  "
      ]
     },
     "execution_count": 12,
     "metadata": {},
     "output_type": "execute_result"
    }
   ],
   "source": [
    "df.describe(include='all')"
   ]
  },
  {
   "cell_type": "markdown",
   "id": "2e408615",
   "metadata": {},
   "source": [
    "### STEP - 2 : DATA CLEANING"
   ]
  },
  {
   "cell_type": "markdown",
   "id": "ef52a5a3",
   "metadata": {},
   "source": [
    "#### REPLACE NUMBERS AS STRING BY INTEGER IN 'DEPENDENTS' COLUMN"
   ]
  },
  {
   "cell_type": "code",
   "execution_count": 13,
   "id": "86db69a5",
   "metadata": {},
   "outputs": [
    {
     "data": {
      "text/plain": [
       "0       0\n",
       "1       1\n",
       "2       0\n",
       "3       0\n",
       "4       0\n",
       "       ..\n",
       "609     0\n",
       "610    3+\n",
       "611     1\n",
       "612     2\n",
       "613     0\n",
       "Name: Dependents, Length: 614, dtype: object"
      ]
     },
     "execution_count": 13,
     "metadata": {},
     "output_type": "execute_result"
    }
   ],
   "source": [
    "df['Dependents'].astype(str)"
   ]
  },
  {
   "cell_type": "markdown",
   "id": "1a5b1eec",
   "metadata": {},
   "source": [
    "#### FILL MISSING DATA IN `CATEGORICAL COLUMNS` (GENDER, MARRIED, DEPENDENTS, EDUCATION, SELF_EMPLOYED, CREDIT_HISTORY) BY ITS MODE VALUE"
   ]
  },
  {
   "cell_type": "code",
   "execution_count": 26,
   "id": "65647785",
   "metadata": {},
   "outputs": [
    {
     "data": {
      "text/plain": [
       "Loan_ID               0\n",
       "Gender               13\n",
       "Married               3\n",
       "Dependents           15\n",
       "Education             0\n",
       "Self_Employed        32\n",
       "ApplicantIncome       0\n",
       "CoapplicantIncome     0\n",
       "LoanAmount           22\n",
       "Loan_Amount_Term     14\n",
       "Credit_History       50\n",
       "Property_Area         0\n",
       "Loan_Status           0\n",
       "dtype: int64"
      ]
     },
     "execution_count": 26,
     "metadata": {},
     "output_type": "execute_result"
    }
   ],
   "source": [
    "df.isnull().sum()"
   ]
  },
  {
   "cell_type": "code",
   "execution_count": 27,
   "id": "686d1802",
   "metadata": {},
   "outputs": [],
   "source": [
    "df['Gender'].fillna(df['Gender'].mode()[0], inplace=True)"
   ]
  },
  {
   "cell_type": "code",
   "execution_count": 28,
   "id": "8528e574",
   "metadata": {},
   "outputs": [],
   "source": [
    "df['Married'].fillna(df['Married'].mode()[0], inplace=True)\n",
    "df['Dependents'].fillna(df['Dependents'].mode()[0], inplace=True)\n",
    "df['Education'].fillna(df['Education'].mode()[0], inplace=True)\n",
    "df['Self_Employed'].fillna(df['Self_Employed'].mode()[0], inplace=True)\n",
    "df['Credit_History'].fillna(df['Credit_History'].mode()[0], inplace=True)"
   ]
  },
  {
   "cell_type": "markdown",
   "id": "e0db1463",
   "metadata": {},
   "source": [
    "#### HANDLING MISSING VALUES IN `NUMERICAL COLUMNS`"
   ]
  },
  {
   "cell_type": "code",
   "execution_count": 29,
   "id": "bc7fa253",
   "metadata": {},
   "outputs": [
    {
     "data": {
      "text/plain": [
       "Loan_ID               0\n",
       "Gender                0\n",
       "Married               0\n",
       "Dependents            0\n",
       "Education             0\n",
       "Self_Employed         0\n",
       "ApplicantIncome       0\n",
       "CoapplicantIncome     0\n",
       "LoanAmount           22\n",
       "Loan_Amount_Term     14\n",
       "Credit_History        0\n",
       "Property_Area         0\n",
       "Loan_Status           0\n",
       "dtype: int64"
      ]
     },
     "execution_count": 29,
     "metadata": {},
     "output_type": "execute_result"
    }
   ],
   "source": [
    "df.isnull().sum()"
   ]
  },
  {
   "cell_type": "code",
   "execution_count": 31,
   "id": "46fc9bc3",
   "metadata": {},
   "outputs": [],
   "source": [
    "df['LoanAmount'].fillna(df['LoanAmount'].mean(), inplace=True)\n",
    "df['Loan_Amount_Term'].fillna(df['Loan_Amount_Term'].mean(), inplace=True)"
   ]
  },
  {
   "cell_type": "markdown",
   "id": "0a383a47",
   "metadata": {},
   "source": [
    "#### DROP LOAN_ID COLUMN"
   ]
  },
  {
   "cell_type": "code",
   "execution_count": 35,
   "id": "758c6c5c",
   "metadata": {},
   "outputs": [
    {
     "data": {
      "text/html": [
       "<div>\n",
       "<style scoped>\n",
       "    .dataframe tbody tr th:only-of-type {\n",
       "        vertical-align: middle;\n",
       "    }\n",
       "\n",
       "    .dataframe tbody tr th {\n",
       "        vertical-align: top;\n",
       "    }\n",
       "\n",
       "    .dataframe thead th {\n",
       "        text-align: right;\n",
       "    }\n",
       "</style>\n",
       "<table border=\"1\" class=\"dataframe\">\n",
       "  <thead>\n",
       "    <tr style=\"text-align: right;\">\n",
       "      <th></th>\n",
       "      <th>Gender</th>\n",
       "      <th>Married</th>\n",
       "      <th>Dependents</th>\n",
       "      <th>Education</th>\n",
       "      <th>Self_Employed</th>\n",
       "      <th>ApplicantIncome</th>\n",
       "      <th>CoapplicantIncome</th>\n",
       "      <th>LoanAmount</th>\n",
       "      <th>Loan_Amount_Term</th>\n",
       "      <th>Credit_History</th>\n",
       "      <th>Property_Area</th>\n",
       "      <th>Loan_Status</th>\n",
       "    </tr>\n",
       "  </thead>\n",
       "  <tbody>\n",
       "    <tr>\n",
       "      <th>0</th>\n",
       "      <td>Male</td>\n",
       "      <td>No</td>\n",
       "      <td>0</td>\n",
       "      <td>Graduate</td>\n",
       "      <td>No</td>\n",
       "      <td>5849</td>\n",
       "      <td>0.0</td>\n",
       "      <td>146.412162</td>\n",
       "      <td>360.0</td>\n",
       "      <td>1.0</td>\n",
       "      <td>Urban</td>\n",
       "      <td>Y</td>\n",
       "    </tr>\n",
       "    <tr>\n",
       "      <th>1</th>\n",
       "      <td>Male</td>\n",
       "      <td>Yes</td>\n",
       "      <td>1</td>\n",
       "      <td>Graduate</td>\n",
       "      <td>No</td>\n",
       "      <td>4583</td>\n",
       "      <td>1508.0</td>\n",
       "      <td>128.000000</td>\n",
       "      <td>360.0</td>\n",
       "      <td>1.0</td>\n",
       "      <td>Rural</td>\n",
       "      <td>N</td>\n",
       "    </tr>\n",
       "    <tr>\n",
       "      <th>2</th>\n",
       "      <td>Male</td>\n",
       "      <td>Yes</td>\n",
       "      <td>0</td>\n",
       "      <td>Graduate</td>\n",
       "      <td>Yes</td>\n",
       "      <td>3000</td>\n",
       "      <td>0.0</td>\n",
       "      <td>66.000000</td>\n",
       "      <td>360.0</td>\n",
       "      <td>1.0</td>\n",
       "      <td>Urban</td>\n",
       "      <td>Y</td>\n",
       "    </tr>\n",
       "    <tr>\n",
       "      <th>3</th>\n",
       "      <td>Male</td>\n",
       "      <td>Yes</td>\n",
       "      <td>0</td>\n",
       "      <td>Not Graduate</td>\n",
       "      <td>No</td>\n",
       "      <td>2583</td>\n",
       "      <td>2358.0</td>\n",
       "      <td>120.000000</td>\n",
       "      <td>360.0</td>\n",
       "      <td>1.0</td>\n",
       "      <td>Urban</td>\n",
       "      <td>Y</td>\n",
       "    </tr>\n",
       "    <tr>\n",
       "      <th>4</th>\n",
       "      <td>Male</td>\n",
       "      <td>No</td>\n",
       "      <td>0</td>\n",
       "      <td>Graduate</td>\n",
       "      <td>No</td>\n",
       "      <td>6000</td>\n",
       "      <td>0.0</td>\n",
       "      <td>141.000000</td>\n",
       "      <td>360.0</td>\n",
       "      <td>1.0</td>\n",
       "      <td>Urban</td>\n",
       "      <td>Y</td>\n",
       "    </tr>\n",
       "    <tr>\n",
       "      <th>...</th>\n",
       "      <td>...</td>\n",
       "      <td>...</td>\n",
       "      <td>...</td>\n",
       "      <td>...</td>\n",
       "      <td>...</td>\n",
       "      <td>...</td>\n",
       "      <td>...</td>\n",
       "      <td>...</td>\n",
       "      <td>...</td>\n",
       "      <td>...</td>\n",
       "      <td>...</td>\n",
       "      <td>...</td>\n",
       "    </tr>\n",
       "    <tr>\n",
       "      <th>609</th>\n",
       "      <td>Female</td>\n",
       "      <td>No</td>\n",
       "      <td>0</td>\n",
       "      <td>Graduate</td>\n",
       "      <td>No</td>\n",
       "      <td>2900</td>\n",
       "      <td>0.0</td>\n",
       "      <td>71.000000</td>\n",
       "      <td>360.0</td>\n",
       "      <td>1.0</td>\n",
       "      <td>Rural</td>\n",
       "      <td>Y</td>\n",
       "    </tr>\n",
       "    <tr>\n",
       "      <th>610</th>\n",
       "      <td>Male</td>\n",
       "      <td>Yes</td>\n",
       "      <td>3+</td>\n",
       "      <td>Graduate</td>\n",
       "      <td>No</td>\n",
       "      <td>4106</td>\n",
       "      <td>0.0</td>\n",
       "      <td>40.000000</td>\n",
       "      <td>180.0</td>\n",
       "      <td>1.0</td>\n",
       "      <td>Rural</td>\n",
       "      <td>Y</td>\n",
       "    </tr>\n",
       "    <tr>\n",
       "      <th>611</th>\n",
       "      <td>Male</td>\n",
       "      <td>Yes</td>\n",
       "      <td>1</td>\n",
       "      <td>Graduate</td>\n",
       "      <td>No</td>\n",
       "      <td>8072</td>\n",
       "      <td>240.0</td>\n",
       "      <td>253.000000</td>\n",
       "      <td>360.0</td>\n",
       "      <td>1.0</td>\n",
       "      <td>Urban</td>\n",
       "      <td>Y</td>\n",
       "    </tr>\n",
       "    <tr>\n",
       "      <th>612</th>\n",
       "      <td>Male</td>\n",
       "      <td>Yes</td>\n",
       "      <td>2</td>\n",
       "      <td>Graduate</td>\n",
       "      <td>No</td>\n",
       "      <td>7583</td>\n",
       "      <td>0.0</td>\n",
       "      <td>187.000000</td>\n",
       "      <td>360.0</td>\n",
       "      <td>1.0</td>\n",
       "      <td>Urban</td>\n",
       "      <td>Y</td>\n",
       "    </tr>\n",
       "    <tr>\n",
       "      <th>613</th>\n",
       "      <td>Female</td>\n",
       "      <td>No</td>\n",
       "      <td>0</td>\n",
       "      <td>Graduate</td>\n",
       "      <td>Yes</td>\n",
       "      <td>4583</td>\n",
       "      <td>0.0</td>\n",
       "      <td>133.000000</td>\n",
       "      <td>360.0</td>\n",
       "      <td>0.0</td>\n",
       "      <td>Semiurban</td>\n",
       "      <td>N</td>\n",
       "    </tr>\n",
       "  </tbody>\n",
       "</table>\n",
       "<p>614 rows × 12 columns</p>\n",
       "</div>"
      ],
      "text/plain": [
       "     Gender Married Dependents     Education Self_Employed  ApplicantIncome  \\\n",
       "0      Male      No          0      Graduate            No             5849   \n",
       "1      Male     Yes          1      Graduate            No             4583   \n",
       "2      Male     Yes          0      Graduate           Yes             3000   \n",
       "3      Male     Yes          0  Not Graduate            No             2583   \n",
       "4      Male      No          0      Graduate            No             6000   \n",
       "..      ...     ...        ...           ...           ...              ...   \n",
       "609  Female      No          0      Graduate            No             2900   \n",
       "610    Male     Yes         3+      Graduate            No             4106   \n",
       "611    Male     Yes          1      Graduate            No             8072   \n",
       "612    Male     Yes          2      Graduate            No             7583   \n",
       "613  Female      No          0      Graduate           Yes             4583   \n",
       "\n",
       "     CoapplicantIncome  LoanAmount  Loan_Amount_Term  Credit_History  \\\n",
       "0                  0.0  146.412162             360.0             1.0   \n",
       "1               1508.0  128.000000             360.0             1.0   \n",
       "2                  0.0   66.000000             360.0             1.0   \n",
       "3               2358.0  120.000000             360.0             1.0   \n",
       "4                  0.0  141.000000             360.0             1.0   \n",
       "..                 ...         ...               ...             ...   \n",
       "609                0.0   71.000000             360.0             1.0   \n",
       "610                0.0   40.000000             180.0             1.0   \n",
       "611              240.0  253.000000             360.0             1.0   \n",
       "612                0.0  187.000000             360.0             1.0   \n",
       "613                0.0  133.000000             360.0             0.0   \n",
       "\n",
       "    Property_Area Loan_Status  \n",
       "0           Urban           Y  \n",
       "1           Rural           N  \n",
       "2           Urban           Y  \n",
       "3           Urban           Y  \n",
       "4           Urban           Y  \n",
       "..            ...         ...  \n",
       "609         Rural           Y  \n",
       "610         Rural           Y  \n",
       "611         Urban           Y  \n",
       "612         Urban           Y  \n",
       "613     Semiurban           N  \n",
       "\n",
       "[614 rows x 12 columns]"
      ]
     },
     "execution_count": 35,
     "metadata": {},
     "output_type": "execute_result"
    }
   ],
   "source": [
    "df.drop(['Loan_ID'],axis =1)"
   ]
  },
  {
   "cell_type": "markdown",
   "id": "53665439",
   "metadata": {},
   "source": [
    "### STEP - 3 : [ OPTIONAL: EXPLORATORY DATA ANALYSIS - WHO GOT THEIR LOAN APPROVED ]"
   ]
  },
  {
   "cell_type": "markdown",
   "id": "2eaa823b",
   "metadata": {},
   "source": [
    "#### DRAW COUNT PLOT FOR [ MARRIED, DEPENDANTS, GRADUATES, SELF_EMPLOYED ]"
   ]
  },
  {
   "cell_type": "code",
   "execution_count": 36,
   "id": "15fdd524",
   "metadata": {},
   "outputs": [],
   "source": [
    "import matplotlib.pyplot as plt\n",
    "import seaborn as sns"
   ]
  },
  {
   "cell_type": "markdown",
   "id": "60d5e70a",
   "metadata": {},
   "source": [
    "#### COUNT PLOT FOR MARRIED"
   ]
  },
  {
   "cell_type": "code",
   "execution_count": 39,
   "id": "ffb8f4b2",
   "metadata": {},
   "outputs": [
    {
     "data": {
      "text/plain": [
       "<AxesSubplot:xlabel='Married', ylabel='count'>"
      ]
     },
     "execution_count": 39,
     "metadata": {},
     "output_type": "execute_result"
    },
    {
     "data": {
      "image/png": "[encoded data removed]",
      "text/plain": [
       "<Figure size 432x288 with 1 Axes>"
      ]
     },
     "metadata": {
      "needs_background": "light"
     },
     "output_type": "display_data"
    }
   ],
   "source": [
    "sns.countplot (x = 'Married', data =df)"
   ]
  },
  {
   "cell_type": "markdown",
   "id": "930e328c",
   "metadata": {},
   "source": [
    "#### COUNT PLOT FOR DEPENDANTS"
   ]
  },
  {
   "cell_type": "code",
   "execution_count": 40,
   "id": "d38586a6",
   "metadata": {},
   "outputs": [
    {
     "data": {
      "text/plain": [
       "<AxesSubplot:xlabel='Dependents', ylabel='count'>"
      ]
     },
     "execution_count": 40,
     "metadata": {},
     "output_type": "execute_result"
    },
    {
     "data": {
      "image/png": "[encoded data removed]",
      "text/plain": [
       "<Figure size 432x288 with 1 Axes>"
      ]
     },
     "metadata": {
      "needs_background": "light"
     },
     "output_type": "display_data"
    }
   ],
   "source": [
    "sns.countplot (x = 'Dependents', data =df)"
   ]
  },
  {
   "cell_type": "markdown",
   "id": "442268d5",
   "metadata": {},
   "source": [
    "#### COUNT PLOT FOR EDUCATION"
   ]
  },
  {
   "cell_type": "code",
   "execution_count": 42,
   "id": "d4e68e48",
   "metadata": {},
   "outputs": [
    {
     "data": {
      "text/plain": [
       "<AxesSubplot:xlabel='Education', ylabel='count'>"
      ]
     },
     "execution_count": 42,
     "metadata": {},
     "output_type": "execute_result"
    },
    {
     "data": {
      "image/png": "[encoded data removed]",
      "text/plain": [
       "<Figure size 432x288 with 1 Axes>"
      ]
     },
     "metadata": {
      "needs_background": "light"
     },
     "output_type": "display_data"
    }
   ],
   "source": [
    "sns.countplot (x = 'Education', data =df)"
   ]
  },
  {
   "cell_type": "markdown",
   "id": "75d1a977",
   "metadata": {},
   "source": [
    "#### COUNT PLOT FOR SELF_EMPLOYED"
   ]
  },
  {
   "cell_type": "code",
   "execution_count": 43,
   "id": "b1ae09d9",
   "metadata": {},
   "outputs": [
    {
     "data": {
      "text/plain": [
       "<AxesSubplot:xlabel='Self_Employed', ylabel='count'>"
      ]
     },
     "execution_count": 43,
     "metadata": {},
     "output_type": "execute_result"
    },
    {
     "data": {
      "image/png": "[encoded data removed]",
      "text/plain": [
       "<Figure size 432x288 with 1 Axes>"
      ]
     },
     "metadata": {
      "needs_background": "light"
     },
     "output_type": "display_data"
    }
   ],
   "source": [
    "sns.countplot (x = 'Self_Employed', data =df)"
   ]
  },
  {
   "cell_type": "markdown",
   "id": "beae1e0a",
   "metadata": {},
   "source": [
    "### STEP - 4 : EXTRACT X AND Y"
   ]
  },
  {
   "cell_type": "code",
   "execution_count": 44,
   "id": "194560cc",
   "metadata": {},
   "outputs": [],
   "source": [
    "X = df.drop(['Loan_Status'],axis =1)\n",
    "y = df['Loan_Status']"
   ]
  },
  {
   "cell_type": "markdown",
   "id": "c4c48591",
   "metadata": {},
   "source": [
    "### STEP - 5 : [ONE HOT ENCODING ]"
   ]
  },
  {
   "cell_type": "code",
   "execution_count": 46,
   "id": "5a32aa17",
   "metadata": {},
   "outputs": [],
   "source": [
    "X = pd.get_dummies(X)"
   ]
  },
  {
   "cell_type": "markdown",
   "id": "6d234fb7",
   "metadata": {},
   "source": [
    "### STEP - 6 : MODEL BUILDING"
   ]
  },
  {
   "cell_type": "markdown",
   "id": "f6276728",
   "metadata": {},
   "source": [
    "#### SPLIT X AND Y FOR TRAINING AND TESTING"
   ]
  },
  {
   "cell_type": "code",
   "execution_count": 78,
   "id": "65e8b63d",
   "metadata": {},
   "outputs": [],
   "source": [
    "from sklearn.model_selection import train_test_split\n",
    "X_train, X_test, y_train, y_test = train_test_split(X,y, test_size = 0.30, random_state=42)"
   ]
  },
  {
   "cell_type": "markdown",
   "id": "0ca3e0c3",
   "metadata": {},
   "source": [
    "#### USING STANDARD SCALER , FIT_TRANSFORM ON X_TRAIN AND TRANSFORM ON X_TEST"
   ]
  },
  {
   "cell_type": "code",
   "execution_count": 79,
   "id": "d291492d",
   "metadata": {},
   "outputs": [],
   "source": [
    "from sklearn.preprocessing import StandardScaler \n",
    "ss = StandardScaler()"
   ]
  },
  {
   "cell_type": "code",
   "execution_count": 80,
   "id": "b5aec421",
   "metadata": {},
   "outputs": [
    {
     "data": {
      "text/plain": [
       "array([[-0.50133384,  0.27865737,  0.40368493, ..., -0.62317695,\n",
       "        -0.79056942,  1.40682858],\n",
       "       [-0.42803179,  0.45103751,  0.09632945, ...,  1.60468065,\n",
       "        -0.79056942, -0.71081865],\n",
       "       [-0.5669725 ,  0.23208844, -0.15191921, ..., -0.62317695,\n",
       "         1.26491106, -0.71081865],\n",
       "       ...,\n",
       "       [-0.37088951, -0.59751445, -1.38134113, ..., -0.62317695,\n",
       "        -0.79056942,  1.40682858],\n",
       "       [ 0.76362634, -0.59751445, -0.00519051, ..., -0.62317695,\n",
       "         1.26491106, -0.71081865],\n",
       "       [ 1.36387019, -0.59751445, -0.00519051, ..., -0.62317695,\n",
       "        -0.79056942,  1.40682858]])"
      ]
     },
     "execution_count": 80,
     "metadata": {},
     "output_type": "execute_result"
    }
   ],
   "source": [
    "X_train_ss=ss.fit_transform(X_train)\n",
    "X_train_ss "
   ]
  },
  {
   "cell_type": "code",
   "execution_count": 81,
   "id": "173737cd",
   "metadata": {},
   "outputs": [
    {
     "data": {
      "text/plain": [
       "array([[ 0.60302821, -0.59751445,  0.95928907, ..., -0.62317695,\n",
       "         1.26491106, -0.71081865],\n",
       "       [-0.19213246, -0.59751445, -0.19920467, ..., -0.62317695,\n",
       "         1.26491106, -0.71081865],\n",
       "       [-0.21595563, -0.05408512,  0.13179354, ...,  1.60468065,\n",
       "        -0.79056942, -0.71081865],\n",
       "       ...,\n",
       "       [ 1.04850477, -0.59751445,  0.47461312, ..., -0.62317695,\n",
       "        -0.79056942,  1.40682858],\n",
       "       [-0.39787799,  0.30982851, -0.09281238, ...,  1.60468065,\n",
       "        -0.79056942, -0.71081865],\n",
       "       [ 0.00611627, -0.59751445, -0.49473878, ...,  1.60468065,\n",
       "        -0.79056942, -0.71081865]])"
      ]
     },
     "execution_count": 81,
     "metadata": {},
     "output_type": "execute_result"
    }
   ],
   "source": [
    "X_test_ss=ss.transform(X_test)\n",
    "X_test_ss "
   ]
  },
  {
   "cell_type": "markdown",
   "id": "2012fa1d",
   "metadata": {},
   "source": [
    "#### CREATE LINEAR SVC MODEL , TRAIN AND TEST"
   ]
  },
  {
   "cell_type": "code",
   "execution_count": 82,
   "id": "2e87bcc8",
   "metadata": {},
   "outputs": [],
   "source": [
    "import warnings\n",
    "warnings.filterwarnings('ignore')"
   ]
  },
  {
   "cell_type": "code",
   "execution_count": 88,
   "id": "20eb706c",
   "metadata": {},
   "outputs": [],
   "source": [
    "from sklearn.svm import LinearSVC\n",
    "LinSVC = LinearSVC()\n",
    "LinSVC.fit(X_train_ss, y_train)\n",
    "LinSVC_y_pred = LinSVC.predict(X_test_ss)"
   ]
  },
  {
   "cell_type": "code",
   "execution_count": 89,
   "id": "a5b1d581",
   "metadata": {},
   "outputs": [
    {
     "data": {
      "text/plain": [
       "array(['Y', 'Y', 'Y', 'Y', 'Y', 'Y', 'Y', 'Y', 'Y', 'Y', 'Y', 'Y', 'Y',\n",
       "       'Y', 'Y', 'Y', 'Y', 'Y', 'Y', 'Y', 'Y', 'Y', 'Y', 'Y', 'Y', 'Y',\n",
       "       'Y', 'Y', 'Y', 'Y', 'Y', 'Y', 'Y', 'Y', 'Y', 'N', 'Y', 'Y', 'Y',\n",
       "       'Y', 'Y', 'Y', 'Y', 'Y', 'Y', 'Y', 'Y', 'N', 'N', 'N', 'Y', 'Y',\n",
       "       'N', 'Y', 'Y', 'Y', 'Y', 'Y', 'N', 'Y', 'N', 'Y', 'N', 'Y', 'Y',\n",
       "       'Y', 'Y', 'Y', 'Y', 'Y', 'N', 'Y', 'Y', 'Y', 'Y', 'Y', 'Y', 'N',\n",
       "       'N', 'Y', 'Y', 'Y', 'Y', 'Y', 'Y', 'Y', 'Y', 'Y', 'Y', 'Y', 'Y',\n",
       "       'N', 'N', 'Y', 'Y', 'Y', 'Y', 'Y', 'Y', 'Y', 'Y', 'Y', 'Y', 'Y',\n",
       "       'Y', 'N', 'Y', 'Y', 'Y', 'Y', 'Y', 'N', 'Y', 'Y', 'Y', 'Y', 'Y',\n",
       "       'Y', 'Y', 'Y', 'Y', 'Y', 'Y', 'Y', 'Y', 'Y', 'Y', 'N', 'Y', 'Y',\n",
       "       'N', 'Y', 'Y', 'N', 'Y', 'Y', 'Y', 'Y', 'Y', 'Y', 'Y', 'Y', 'Y',\n",
       "       'Y', 'Y', 'Y', 'Y', 'Y', 'Y', 'Y', 'Y', 'Y', 'Y', 'Y', 'Y', 'Y',\n",
       "       'Y', 'Y', 'Y', 'Y', 'Y', 'Y', 'Y', 'Y', 'Y', 'Y', 'Y', 'Y', 'Y',\n",
       "       'Y', 'N', 'N', 'Y', 'N', 'Y', 'Y', 'Y', 'Y', 'Y', 'Y', 'Y', 'Y',\n",
       "       'Y', 'Y', 'N'], dtype=object)"
      ]
     },
     "execution_count": 89,
     "metadata": {},
     "output_type": "execute_result"
    }
   ],
   "source": [
    "LinSVC_y_pred"
   ]
  },
  {
   "cell_type": "markdown",
   "id": "ad44f9f6",
   "metadata": {},
   "source": [
    "#### PRINT ACCURACY VALUE"
   ]
  },
  {
   "cell_type": "code",
   "execution_count": 114,
   "id": "20e4891c",
   "metadata": {},
   "outputs": [
    {
     "data": {
      "text/plain": [
       "0.745945945945946"
      ]
     },
     "execution_count": 114,
     "metadata": {},
     "output_type": "execute_result"
    }
   ],
   "source": [
    "from sklearn.metrics import accuracy_score\n",
    "LinSVC_acc = accuracy_score(y_test, LinSVC_y_pred)\n",
    "LinSVC_acc"
   ]
  },
  {
   "cell_type": "markdown",
   "id": "4c4256c3",
   "metadata": {},
   "source": [
    "#### PRINT CONFUSION MATRIX BETWEEN Y_TEST AND Y_PRED"
   ]
  },
  {
   "cell_type": "code",
   "execution_count": 108,
   "id": "c597f22f",
   "metadata": {},
   "outputs": [
    {
     "data": {
      "text/plain": [
       "array([[ 20,  45],\n",
       "       [  2, 118]], dtype=int64)"
      ]
     },
     "execution_count": 108,
     "metadata": {},
     "output_type": "execute_result"
    }
   ],
   "source": [
    "from sklearn.metrics import confusion_matrix\n",
    "cf_matrix = confusion_matrix(y_test, LinSVC_y_pred)\n",
    "cf_matrix"
   ]
  },
  {
   "cell_type": "markdown",
   "id": "58152316",
   "metadata": {},
   "source": [
    "#### PRINT CLASSIFICATION_REPORT"
   ]
  },
  {
   "cell_type": "code",
   "execution_count": 113,
   "id": "9581b8af",
   "metadata": {
    "scrolled": true
   },
   "outputs": [
    {
     "name": "stdout",
     "output_type": "stream",
     "text": [
      "              precision    recall  f1-score   support\n",
      "\n",
      "           Y       0.72      0.98      0.83       120\n",
      "           N       0.91      0.31      0.46        65\n",
      "\n",
      "    accuracy                           0.75       185\n",
      "   macro avg       0.82      0.65      0.65       185\n",
      "weighted avg       0.79      0.75      0.70       185\n",
      "\n"
     ]
    }
   ],
   "source": [
    "from sklearn.metrics import classification_report\n",
    "print(classification_report(y_test, LinSVC_y_pred, labels=['Y','N']))\n"
   ]
  },
  {
   "cell_type": "markdown",
   "id": "66069e1d",
   "metadata": {},
   "source": [
    "### STEP - 7 [PERFORMANCE COMPARISONS]"
   ]
  },
  {
   "cell_type": "markdown",
   "id": "47e0d139",
   "metadata": {},
   "source": [
    "#### COMPARE THE PERFORMANCE OF LINEARSVC AGAINST LOGISTIC REGRESSION"
   ]
  },
  {
   "cell_type": "code",
   "execution_count": 122,
   "id": "1d646ee5",
   "metadata": {},
   "outputs": [
    {
     "name": "stdout",
     "output_type": "stream",
     "text": [
      "Accuracy of Logistic Regression :  0.7513513513513513\n",
      "Accuracy of Linear SVC :  0.745945945945946\n"
     ]
    }
   ],
   "source": [
    "# LOGISTIC REGRESSION\n",
    "\n",
    "from sklearn.linear_model import LogisticRegression\n",
    "LOR = LogisticRegression()\n",
    "LOR.fit(X_train_ss, y_train)\n",
    "LOR_y_pred = LOR.predict(X_test_ss)\n",
    "\n",
    "# LINEARSVC \n",
    "\n",
    "from sklearn.svm import LinearSVC\n",
    "LinSVC = LinearSVC()\n",
    "LinSVC.fit(X_train_ss, y_train)\n",
    "LinSVC_y_pred = LinSVC.predict(X_test_ss)\n",
    "\n",
    "\n",
    "# ACCURACY OF LOGISTIC REGRESSION\n",
    "from sklearn.metrics import accuracy_score\n",
    "LOR_acc = accuracy_score(y_test, LOR_y_pred)\n",
    "print('Accuracy of Logistic Regression : ',LOR_acc)\n",
    "\n",
    "\n",
    "#ACCURACY OF LINEAR SVC\n",
    "\n",
    "from sklearn.metrics import accuracy_score\n",
    "LinSVC_acc = accuracy_score(y_test, LinSVC_y_pred)\n",
    "print('Accuracy of Linear SVC : ',LinSVC_acc)\n"
   ]
  },
  {
   "cell_type": "code",
   "execution_count": 124,
   "id": "e66ec9e2",
   "metadata": {},
   "outputs": [
    {
     "name": "stdout",
     "output_type": "stream",
     "text": [
      "Accuracy of Stochastic Gradient Descent (SGD) :  0.6702702702702703\n",
      "Accuracy of Linear SVC :  0.745945945945946\n"
     ]
    }
   ],
   "source": [
    "# LINEARSVC \n",
    "\n",
    "from sklearn.svm import LinearSVC\n",
    "LinSVC = LinearSVC()\n",
    "LinSVC.fit(X_train_ss, y_train)\n",
    "LinSVC_y_pred = LinSVC.predict(X_test_ss)\n",
    "\n",
    "#SGD REGRESSOR\n",
    "from sklearn.linear_model import SGDClassifier\n",
    "SGD = SGDClassifier()\n",
    "SGD.fit(X_train_ss,y_train)\n",
    "SGD_y_pred = SGD.predict(X_test_ss)\n",
    "SGD_y_pred\n",
    "\n",
    "# ACCURACY OF SGD CLASSIFIER\n",
    "from sklearn.metrics import accuracy_score\n",
    "SGD_acc = accuracy_score(y_test, SGD_y_pred)\n",
    "print('Accuracy of Stochastic Gradient Descent (SGD) : ',SGD_acc)\n",
    "\n",
    "\n",
    "#ACCURACY OF LINEAR SVC\n",
    "\n",
    "from sklearn.metrics import accuracy_score\n",
    "LinSVC_acc = accuracy_score(y_test, LinSVC_y_pred)\n",
    "print('Accuracy of Linear SVC : ',LinSVC_acc)\n"
   ]
  },
  {
   "cell_type": "markdown",
   "id": "40189e86",
   "metadata": {},
   "source": [
    "#### COMPARE LINEAR SVC AGAINST SVC WITH VARIOUS KERNELS SUCH AS 'LINEAR', 'POLY', 'RBF',  'SIGMOID'"
   ]
  },
  {
   "cell_type": "code",
   "execution_count": 128,
   "id": "191b211d",
   "metadata": {},
   "outputs": [
    {
     "name": "stdout",
     "output_type": "stream",
     "text": [
      "Accuracy of Linear SVC :  0.745945945945946\n",
      "Accuracy of polynomial SVC :  0.6486486486486487\n",
      "Accuracy of RBF SVC :  0.6972972972972973\n",
      "Accuracy of Sigmoid SVC :  0.7783783783783784\n"
     ]
    }
   ],
   "source": [
    "from sklearn.svm import SVC\n",
    "\n",
    "# Linear SVC\n",
    "\n",
    "LinSVC = LinearSVC()\n",
    "LinSVC.fit(X_train_ss, y_train)\n",
    "LinSVC_y_pred = LinSVC.predict(X_test_ss)\n",
    "\n",
    "# POLY\n",
    "poly_SVC = SVC(kernel = 'poly', C=10.0)\n",
    "poly_SVC.fit(X_train_ss, y_train)\n",
    "poly_SVC_y_pred = poly_SVC.predict(X_test_ss)\n",
    "\n",
    "# RBF\n",
    "rbf_SVC = SVC(kernel = 'rbf', C=10.0)\n",
    "rbf_SVC.fit(X_train_ss, y_train)\n",
    "rbf_SVC_y_pred = rbf_SVC.predict(X_test_ss)\n",
    "\n",
    "# SIGMOID\n",
    "sigmoid_SVC = SVC(kernel = 'sigmoid', C=10.0)\n",
    "sigmoid_SVC.fit(X_train_ss, y_train)\n",
    "sigmoid_SVC_y_pred = sigmoid_SVC.predict(X_test_ss)\n",
    "\n",
    "\n",
    "\n",
    "from sklearn.metrics import accuracy_score\n",
    "\n",
    "#ACCURACY OF LINEAR SVC\n",
    "\n",
    "LinSVC_acc = accuracy_score(y_test, LinSVC_y_pred)\n",
    "print('Accuracy of Linear SVC : ',LinSVC_acc)\n",
    "\n",
    "#ACCURACY OF POLY SVC\n",
    "\n",
    "poly_SVC_acc = accuracy_score(y_test, poly_SVC_y_pred)\n",
    "print('Accuracy of polynomial SVC : ',poly_SVC_acc)\n",
    "\n",
    "#ACCURACY OF RBF SVC\n",
    "\n",
    "rbf_SVC_acc = accuracy_score(y_test, rbf_SVC_y_pred)\n",
    "print('Accuracy of RBF SVC : ',rbf_SVC_acc)\n",
    "\n",
    "#ACCURACY OF SIGMOID SVC\n",
    "\n",
    "sigmoid_SVC_acc = accuracy_score(y_test, sigmoid_SVC_y_pred)\n",
    "print('Accuracy of Sigmoid SVC : ',sigmoid_SVC_acc)"
   ]
  },
  {
   "cell_type": "markdown",
   "id": "7d802f48",
   "metadata": {},
   "source": [
    "#### INTERPRET THE RESULTS"
   ]
  },
  {
   "cell_type": "code",
   "execution_count": 182,
   "id": "5ce28255",
   "metadata": {},
   "outputs": [],
   "source": [
    "import numpy as np\n",
    "from sklearn.metrics import roc_curve, precision_score, recall_score, auc"
   ]
  },
  {
   "cell_type": "code",
   "execution_count": 183,
   "id": "1e73f332",
   "metadata": {},
   "outputs": [],
   "source": [
    "MLA = [LinSVC, LOR, SGD, poly_SVC, rbf_SVC, sigmoid_SVC]\n"
   ]
  },
  {
   "cell_type": "code",
   "execution_count": 199,
   "id": "449de9c1",
   "metadata": {},
   "outputs": [],
   "source": [
    "train_Accuracy  = []\n",
    "test_Accuracy = []\n",
    "Precision = []\n",
    "Recall = []\n",
    "for i in MLA:\n",
    "    predicted = i.fit(X_train_ss, y_train).predict(X_test_ss)\n",
    "    predicted = np.where(predicted == 'Y', 1, 0)\n",
    "    y_testb = np.where (y_test == 'Y', 1, 0)\n",
    "    \n",
    "    train_Accuracy.append(round(i.score(X_train_ss, y_train),5)) \n",
    "    test_Accuracy.append(round(i.score(X_test_ss, y_test), 5))\n",
    "    Precision.append(precision_score(y_testb, predicted))\n",
    "    Recall.append(recall_score(y_testb, predicted))\n",
    "   "
   ]
  },
  {
   "cell_type": "code",
   "execution_count": 185,
   "id": "e56cc11c",
   "metadata": {},
   "outputs": [],
   "source": [
    "A = []\n",
    "for i in MLA:\n",
    "    predicted = i.fit(X_train_ss, y_train).predict(X_test_ss)\n",
    "    predicted = np.where(predicted == 'Y', 1, 0)\n",
    "    y_testb = np.where (y_test == 'Y', 1, 0)\n",
    "    fp, tp, th = roc_curve(y_testb, predicted)\n",
    "    \n",
    "    A.append(auc(fp,tp))\n",
    "    "
   ]
  },
  {
   "cell_type": "code",
   "execution_count": 200,
   "id": "339ba4f5",
   "metadata": {},
   "outputs": [],
   "source": [
    "df2 = pd.DataFrame(columns = ['Algorithm', 'TrainAccuracy', 'Test Accuracy', 'Precision', 'Recall','AUC'])\n",
    "df2['Algorithm']= MLA\n",
    "df2['TrainAccuracy '] = train_Accuracy\n",
    "df2['Test Accuracy']= test_Accuracy\n",
    "df2['Precision']=Precision\n",
    "df2['Recall']=Recall\n",
    "df2['AUC']=A"
   ]
  },
  {
   "cell_type": "code",
   "execution_count": 201,
   "id": "802799f4",
   "metadata": {},
   "outputs": [
    {
     "data": {
      "text/html": [
       "<div>\n",
       "<style scoped>\n",
       "    .dataframe tbody tr th:only-of-type {\n",
       "        vertical-align: middle;\n",
       "    }\n",
       "\n",
       "    .dataframe tbody tr th {\n",
       "        vertical-align: top;\n",
       "    }\n",
       "\n",
       "    .dataframe thead th {\n",
       "        text-align: right;\n",
       "    }\n",
       "</style>\n",
       "<table border=\"1\" class=\"dataframe\">\n",
       "  <thead>\n",
       "    <tr style=\"text-align: right;\">\n",
       "      <th></th>\n",
       "      <th>Algorithm</th>\n",
       "      <th>TrainAccuracy</th>\n",
       "      <th>Test Accuracy</th>\n",
       "      <th>Precision</th>\n",
       "      <th>Recall</th>\n",
       "      <th>AUC</th>\n",
       "      <th>TrainAccuracy</th>\n",
       "    </tr>\n",
       "  </thead>\n",
       "  <tbody>\n",
       "    <tr>\n",
       "      <th>0</th>\n",
       "      <td>LinearSVC()</td>\n",
       "      <td>NaN</td>\n",
       "      <td>0.74595</td>\n",
       "      <td>0.723926</td>\n",
       "      <td>0.983333</td>\n",
       "      <td>0.645513</td>\n",
       "      <td>1.0</td>\n",
       "    </tr>\n",
       "    <tr>\n",
       "      <th>1</th>\n",
       "      <td>LogisticRegression()</td>\n",
       "      <td>NaN</td>\n",
       "      <td>0.75135</td>\n",
       "      <td>0.725610</td>\n",
       "      <td>0.991667</td>\n",
       "      <td>0.649679</td>\n",
       "      <td>1.0</td>\n",
       "    </tr>\n",
       "    <tr>\n",
       "      <th>2</th>\n",
       "      <td>SGDClassifier()</td>\n",
       "      <td>NaN</td>\n",
       "      <td>0.75135</td>\n",
       "      <td>0.728395</td>\n",
       "      <td>0.983333</td>\n",
       "      <td>0.649679</td>\n",
       "      <td>1.0</td>\n",
       "    </tr>\n",
       "    <tr>\n",
       "      <th>3</th>\n",
       "      <td>SVC(C=10.0, kernel='poly')</td>\n",
       "      <td>NaN</td>\n",
       "      <td>0.64865</td>\n",
       "      <td>0.648649</td>\n",
       "      <td>1.000000</td>\n",
       "      <td>0.500000</td>\n",
       "      <td>1.0</td>\n",
       "    </tr>\n",
       "    <tr>\n",
       "      <th>4</th>\n",
       "      <td>SVC(C=10.0)</td>\n",
       "      <td>NaN</td>\n",
       "      <td>0.69730</td>\n",
       "      <td>0.681818</td>\n",
       "      <td>1.000000</td>\n",
       "      <td>0.569231</td>\n",
       "      <td>1.0</td>\n",
       "    </tr>\n",
       "    <tr>\n",
       "      <th>5</th>\n",
       "      <td>SVC(C=10.0, kernel='sigmoid')</td>\n",
       "      <td>NaN</td>\n",
       "      <td>0.77838</td>\n",
       "      <td>0.751592</td>\n",
       "      <td>0.983333</td>\n",
       "      <td>0.691667</td>\n",
       "      <td>1.0</td>\n",
       "    </tr>\n",
       "  </tbody>\n",
       "</table>\n",
       "</div>"
      ],
      "text/plain": [
       "                       Algorithm TrainAccuracy  Test Accuracy  Precision  \\\n",
       "0                    LinearSVC()           NaN        0.74595   0.723926   \n",
       "1           LogisticRegression()           NaN        0.75135   0.725610   \n",
       "2                SGDClassifier()           NaN        0.75135   0.728395   \n",
       "3     SVC(C=10.0, kernel='poly')           NaN        0.64865   0.648649   \n",
       "4                    SVC(C=10.0)           NaN        0.69730   0.681818   \n",
       "5  SVC(C=10.0, kernel='sigmoid')           NaN        0.77838   0.751592   \n",
       "\n",
       "     Recall       AUC  TrainAccuracy   \n",
       "0  0.983333  0.645513             1.0  \n",
       "1  0.991667  0.649679             1.0  \n",
       "2  0.983333  0.649679             1.0  \n",
       "3  1.000000  0.500000             1.0  \n",
       "4  1.000000  0.569231             1.0  \n",
       "5  0.983333  0.691667             1.0  "
      ]
     },
     "execution_count": 201,
     "metadata": {},
     "output_type": "execute_result"
    }
   ],
   "source": [
    "df2"
   ]
  },
  {
   "cell_type": "code",
   "execution_count": 203,
   "id": "1bb26898",
   "metadata": {},
   "outputs": [],
   "source": [
    "df2 = df2.drop(['TrainAccuracy'],axis =1)"
   ]
  },
  {
   "cell_type": "code",
   "execution_count": 204,
   "id": "89224051",
   "metadata": {},
   "outputs": [
    {
     "data": {
      "text/html": [
       "<div>\n",
       "<style scoped>\n",
       "    .dataframe tbody tr th:only-of-type {\n",
       "        vertical-align: middle;\n",
       "    }\n",
       "\n",
       "    .dataframe tbody tr th {\n",
       "        vertical-align: top;\n",
       "    }\n",
       "\n",
       "    .dataframe thead th {\n",
       "        text-align: right;\n",
       "    }\n",
       "</style>\n",
       "<table border=\"1\" class=\"dataframe\">\n",
       "  <thead>\n",
       "    <tr style=\"text-align: right;\">\n",
       "      <th></th>\n",
       "      <th>Algorithm</th>\n",
       "      <th>Test Accuracy</th>\n",
       "      <th>Precision</th>\n",
       "      <th>Recall</th>\n",
       "      <th>AUC</th>\n",
       "      <th>TrainAccuracy</th>\n",
       "    </tr>\n",
       "  </thead>\n",
       "  <tbody>\n",
       "    <tr>\n",
       "      <th>0</th>\n",
       "      <td>LinearSVC()</td>\n",
       "      <td>0.74595</td>\n",
       "      <td>0.723926</td>\n",
       "      <td>0.983333</td>\n",
       "      <td>0.645513</td>\n",
       "      <td>1.0</td>\n",
       "    </tr>\n",
       "    <tr>\n",
       "      <th>1</th>\n",
       "      <td>LogisticRegression()</td>\n",
       "      <td>0.75135</td>\n",
       "      <td>0.725610</td>\n",
       "      <td>0.991667</td>\n",
       "      <td>0.649679</td>\n",
       "      <td>1.0</td>\n",
       "    </tr>\n",
       "    <tr>\n",
       "      <th>2</th>\n",
       "      <td>SGDClassifier()</td>\n",
       "      <td>0.75135</td>\n",
       "      <td>0.728395</td>\n",
       "      <td>0.983333</td>\n",
       "      <td>0.649679</td>\n",
       "      <td>1.0</td>\n",
       "    </tr>\n",
       "    <tr>\n",
       "      <th>3</th>\n",
       "      <td>SVC(C=10.0, kernel='poly')</td>\n",
       "      <td>0.64865</td>\n",
       "      <td>0.648649</td>\n",
       "      <td>1.000000</td>\n",
       "      <td>0.500000</td>\n",
       "      <td>1.0</td>\n",
       "    </tr>\n",
       "    <tr>\n",
       "      <th>4</th>\n",
       "      <td>SVC(C=10.0)</td>\n",
       "      <td>0.69730</td>\n",
       "      <td>0.681818</td>\n",
       "      <td>1.000000</td>\n",
       "      <td>0.569231</td>\n",
       "      <td>1.0</td>\n",
       "    </tr>\n",
       "    <tr>\n",
       "      <th>5</th>\n",
       "      <td>SVC(C=10.0, kernel='sigmoid')</td>\n",
       "      <td>0.77838</td>\n",
       "      <td>0.751592</td>\n",
       "      <td>0.983333</td>\n",
       "      <td>0.691667</td>\n",
       "      <td>1.0</td>\n",
       "    </tr>\n",
       "  </tbody>\n",
       "</table>\n",
       "</div>"
      ],
      "text/plain": [
       "                       Algorithm  Test Accuracy  Precision    Recall  \\\n",
       "0                    LinearSVC()        0.74595   0.723926  0.983333   \n",
       "1           LogisticRegression()        0.75135   0.725610  0.991667   \n",
       "2                SGDClassifier()        0.75135   0.728395  0.983333   \n",
       "3     SVC(C=10.0, kernel='poly')        0.64865   0.648649  1.000000   \n",
       "4                    SVC(C=10.0)        0.69730   0.681818  1.000000   \n",
       "5  SVC(C=10.0, kernel='sigmoid')        0.77838   0.751592  0.983333   \n",
       "\n",
       "        AUC  TrainAccuracy   \n",
       "0  0.645513             1.0  \n",
       "1  0.649679             1.0  \n",
       "2  0.649679             1.0  \n",
       "3  0.500000             1.0  \n",
       "4  0.569231             1.0  \n",
       "5  0.691667             1.0  "
      ]
     },
     "execution_count": 204,
     "metadata": {},
     "output_type": "execute_result"
    }
   ],
   "source": [
    "df2"
   ]
  },
  {
   "cell_type": "markdown",
   "id": "36de83c5",
   "metadata": {},
   "source": [
    "__Accuracy of SVC with kernel POLYNOMIAL has the highest Accuracy. so, The best model is `POLYNOMIAL SVC`.__ "
   ]
  },
  {
   "cell_type": "code",
   "execution_count": null,
   "id": "e1ca92b5",
   "metadata": {},
   "outputs": [],
   "source": []
  }
 ],
 "metadata": {
  "kernelspec": {
   "display_name": "Python 3",
   "language": "python",
   "name": "python3"
  },
  "language_info": {
   "codemirror_mode": {
    "name": "ipython",
    "version": 3
   },
   "file_extension": ".py",
   "mimetype": "text/x-python",
   "name": "python",
   "nbconvert_exporter": "python",
   "pygments_lexer": "ipython3",
   "version": "3.8.8"
  }
 },
 "nbformat": 4,
 "nbformat_minor": 5
}
