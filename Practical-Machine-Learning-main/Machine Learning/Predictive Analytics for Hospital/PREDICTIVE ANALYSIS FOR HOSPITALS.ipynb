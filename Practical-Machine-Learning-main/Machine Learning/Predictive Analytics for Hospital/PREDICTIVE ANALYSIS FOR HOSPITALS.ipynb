{
 "cells": [
  {
   "cell_type": "markdown",
   "id": "08b88018",
   "metadata": {},
   "source": [
    "### M. NIVETHA 215229126"
   ]
  },
  {
   "cell_type": "markdown",
   "id": "e2670c79",
   "metadata": {},
   "source": [
    "## LAB - 6 PREDICTIVE ANALYSIS FOR HOSPITALS"
   ]
  },
  {
   "cell_type": "markdown",
   "id": "438c9712",
   "metadata": {},
   "source": [
    "### STEP 1 - IMPORT DATASET"
   ]
  },
  {
   "cell_type": "code",
   "execution_count": 1,
   "id": "4a17ffc8",
   "metadata": {},
   "outputs": [],
   "source": [
    "import pandas as pd"
   ]
  },
  {
   "cell_type": "code",
   "execution_count": 2,
   "id": "3f735d65",
   "metadata": {},
   "outputs": [],
   "source": [
    "df = pd.read_csv(\"diabetes.csv\")"
   ]
  },
  {
   "cell_type": "markdown",
   "id": "64c8f594",
   "metadata": {},
   "source": [
    "##### PROPERTIES SUCH AS HEAD, SHAPE, COLUMNS, DTYPES, INFO AND VALUE_COUNTS"
   ]
  },
  {
   "cell_type": "code",
   "execution_count": 3,
   "id": "f726e3fe",
   "metadata": {},
   "outputs": [
    {
     "data": {
      "text/html": [
       "<div>\n",
       "<style scoped>\n",
       "    .dataframe tbody tr th:only-of-type {\n",
       "        vertical-align: middle;\n",
       "    }\n",
       "\n",
       "    .dataframe tbody tr th {\n",
       "        vertical-align: top;\n",
       "    }\n",
       "\n",
       "    .dataframe thead th {\n",
       "        text-align: right;\n",
       "    }\n",
       "</style>\n",
       "<table border=\"1\" class=\"dataframe\">\n",
       "  <thead>\n",
       "    <tr style=\"text-align: right;\">\n",
       "      <th></th>\n",
       "      <th>Pregnancies</th>\n",
       "      <th>Glucose</th>\n",
       "      <th>BloodPressure</th>\n",
       "      <th>SkinThickness</th>\n",
       "      <th>Insulin</th>\n",
       "      <th>BMI</th>\n",
       "      <th>DiabetesPedigreeFunction</th>\n",
       "      <th>Age</th>\n",
       "      <th>Outcome</th>\n",
       "    </tr>\n",
       "  </thead>\n",
       "  <tbody>\n",
       "    <tr>\n",
       "      <th>0</th>\n",
       "      <td>6</td>\n",
       "      <td>148</td>\n",
       "      <td>72</td>\n",
       "      <td>35</td>\n",
       "      <td>0</td>\n",
       "      <td>33.6</td>\n",
       "      <td>0.627</td>\n",
       "      <td>50</td>\n",
       "      <td>1</td>\n",
       "    </tr>\n",
       "    <tr>\n",
       "      <th>1</th>\n",
       "      <td>1</td>\n",
       "      <td>85</td>\n",
       "      <td>66</td>\n",
       "      <td>29</td>\n",
       "      <td>0</td>\n",
       "      <td>26.6</td>\n",
       "      <td>0.351</td>\n",
       "      <td>31</td>\n",
       "      <td>0</td>\n",
       "    </tr>\n",
       "    <tr>\n",
       "      <th>2</th>\n",
       "      <td>8</td>\n",
       "      <td>183</td>\n",
       "      <td>64</td>\n",
       "      <td>0</td>\n",
       "      <td>0</td>\n",
       "      <td>23.3</td>\n",
       "      <td>0.672</td>\n",
       "      <td>32</td>\n",
       "      <td>1</td>\n",
       "    </tr>\n",
       "    <tr>\n",
       "      <th>3</th>\n",
       "      <td>1</td>\n",
       "      <td>89</td>\n",
       "      <td>66</td>\n",
       "      <td>23</td>\n",
       "      <td>94</td>\n",
       "      <td>28.1</td>\n",
       "      <td>0.167</td>\n",
       "      <td>21</td>\n",
       "      <td>0</td>\n",
       "    </tr>\n",
       "    <tr>\n",
       "      <th>4</th>\n",
       "      <td>0</td>\n",
       "      <td>137</td>\n",
       "      <td>40</td>\n",
       "      <td>35</td>\n",
       "      <td>168</td>\n",
       "      <td>43.1</td>\n",
       "      <td>2.288</td>\n",
       "      <td>33</td>\n",
       "      <td>1</td>\n",
       "    </tr>\n",
       "  </tbody>\n",
       "</table>\n",
       "</div>"
      ],
      "text/plain": [
       "   Pregnancies  Glucose  BloodPressure  SkinThickness  Insulin   BMI  \\\n",
       "0            6      148             72             35        0  33.6   \n",
       "1            1       85             66             29        0  26.6   \n",
       "2            8      183             64              0        0  23.3   \n",
       "3            1       89             66             23       94  28.1   \n",
       "4            0      137             40             35      168  43.1   \n",
       "\n",
       "   DiabetesPedigreeFunction  Age  Outcome  \n",
       "0                     0.627   50        1  \n",
       "1                     0.351   31        0  \n",
       "2                     0.672   32        1  \n",
       "3                     0.167   21        0  \n",
       "4                     2.288   33        1  "
      ]
     },
     "execution_count": 3,
     "metadata": {},
     "output_type": "execute_result"
    }
   ],
   "source": [
    "df.head()"
   ]
  },
  {
   "cell_type": "code",
   "execution_count": 4,
   "id": "7cc6ded4",
   "metadata": {},
   "outputs": [
    {
     "data": {
      "text/plain": [
       "(768, 9)"
      ]
     },
     "execution_count": 4,
     "metadata": {},
     "output_type": "execute_result"
    }
   ],
   "source": [
    "df.shape"
   ]
  },
  {
   "cell_type": "code",
   "execution_count": 5,
   "id": "f97766c5",
   "metadata": {},
   "outputs": [
    {
     "data": {
      "text/plain": [
       "Index(['Pregnancies', 'Glucose', 'BloodPressure', 'SkinThickness', 'Insulin',\n",
       "       'BMI', 'DiabetesPedigreeFunction', 'Age', 'Outcome'],\n",
       "      dtype='object')"
      ]
     },
     "execution_count": 5,
     "metadata": {},
     "output_type": "execute_result"
    }
   ],
   "source": [
    "df.columns"
   ]
  },
  {
   "cell_type": "code",
   "execution_count": 6,
   "id": "60777cf6",
   "metadata": {},
   "outputs": [
    {
     "data": {
      "text/plain": [
       "Pregnancies                   int64\n",
       "Glucose                       int64\n",
       "BloodPressure                 int64\n",
       "SkinThickness                 int64\n",
       "Insulin                       int64\n",
       "BMI                         float64\n",
       "DiabetesPedigreeFunction    float64\n",
       "Age                           int64\n",
       "Outcome                       int64\n",
       "dtype: object"
      ]
     },
     "execution_count": 6,
     "metadata": {},
     "output_type": "execute_result"
    }
   ],
   "source": [
    "df.dtypes"
   ]
  },
  {
   "cell_type": "code",
   "execution_count": 7,
   "id": "703f1d20",
   "metadata": {},
   "outputs": [
    {
     "name": "stdout",
     "output_type": "stream",
     "text": [
      "<class 'pandas.core.frame.DataFrame'>\n",
      "RangeIndex: 768 entries, 0 to 767\n",
      "Data columns (total 9 columns):\n",
      " #   Column                    Non-Null Count  Dtype  \n",
      "---  ------                    --------------  -----  \n",
      " 0   Pregnancies               768 non-null    int64  \n",
      " 1   Glucose                   768 non-null    int64  \n",
      " 2   BloodPressure             768 non-null    int64  \n",
      " 3   SkinThickness             768 non-null    int64  \n",
      " 4   Insulin                   768 non-null    int64  \n",
      " 5   BMI                       768 non-null    float64\n",
      " 6   DiabetesPedigreeFunction  768 non-null    float64\n",
      " 7   Age                       768 non-null    int64  \n",
      " 8   Outcome                   768 non-null    int64  \n",
      "dtypes: float64(2), int64(7)\n",
      "memory usage: 54.1 KB\n"
     ]
    }
   ],
   "source": [
    "df.info()"
   ]
  },
  {
   "cell_type": "code",
   "execution_count": 8,
   "id": "508cc189",
   "metadata": {},
   "outputs": [
    {
     "data": {
      "text/plain": [
       "32.0    13\n",
       "31.2    12\n",
       "31.6    12\n",
       "0.0     11\n",
       "33.3    10\n",
       "        ..\n",
       "19.3     1\n",
       "49.3     1\n",
       "19.4     1\n",
       "20.0     1\n",
       "40.1     1\n",
       "Name: BMI, Length: 248, dtype: int64"
      ]
     },
     "execution_count": 8,
     "metadata": {},
     "output_type": "execute_result"
    }
   ],
   "source": [
    "df['BMI'].value_counts()"
   ]
  },
  {
   "cell_type": "markdown",
   "id": "7593890d",
   "metadata": {},
   "source": [
    "### STEP -2 IDENTIFY RELATIONSHIPS BETWEEN FEATURE"
   ]
  },
  {
   "cell_type": "markdown",
   "id": "5530792f",
   "metadata": {},
   "source": [
    "##### CREATE A HEATMAP FOR THE DATASET AND UNDERSTAND THE DATA"
   ]
  },
  {
   "cell_type": "code",
   "execution_count": 9,
   "id": "838d4037",
   "metadata": {},
   "outputs": [],
   "source": [
    "import seaborn as sns\n",
    "import matplotlib.pyplot as plt"
   ]
  },
  {
   "cell_type": "code",
   "execution_count": 10,
   "id": "c03cd9ca",
   "metadata": {},
   "outputs": [
    {
     "data": {
      "text/plain": [
       "<AxesSubplot:>"
      ]
     },
     "execution_count": 10,
     "metadata": {},
     "output_type": "execute_result"
    },
    {
     "data": {
      "image/png": "[encoded data removed]",
      "text/plain": [
       "<Figure size 720x720 with 2 Axes>"
      ]
     },
     "metadata": {
      "needs_background": "light"
     },
     "output_type": "display_data"
    }
   ],
   "source": [
    "plt.figure(figsize=(10,10))\n",
    "sns.heatmap(df.head(), annot=True,cmap ='YlGnBu')\n"
   ]
  },
  {
   "cell_type": "markdown",
   "id": "d190d31b",
   "metadata": {},
   "source": [
    "### STEP - 3: PREDICTION USING ONE FEATURE"
   ]
  },
  {
   "cell_type": "markdown",
   "id": "d0e783bc",
   "metadata": {},
   "source": [
    "##### CREATE LOGISTIC REGRESSION MODEL, TRAIN WITH \"AGE\" AS X AND \"OUTCOME\" FEATURE AS Y"
   ]
  },
  {
   "cell_type": "code",
   "execution_count": 11,
   "id": "eb8c7a41",
   "metadata": {},
   "outputs": [],
   "source": [
    "X = df[['Age']]\n",
    "y = df[['Outcome']]"
   ]
  },
  {
   "cell_type": "code",
   "execution_count": 12,
   "id": "40ff03f4",
   "metadata": {},
   "outputs": [],
   "source": [
    "import warnings\n",
    "warnings.filterwarnings('ignore')"
   ]
  },
  {
   "cell_type": "code",
   "execution_count": 13,
   "id": "fe609101",
   "metadata": {},
   "outputs": [],
   "source": [
    "from sklearn.model_selection import train_test_split"
   ]
  },
  {
   "cell_type": "code",
   "execution_count": 14,
   "id": "f1139a6f",
   "metadata": {},
   "outputs": [],
   "source": [
    "X_train, X_test, y_train, y_test = train_test_split(X,y,test_size=0.25, random_state=42)"
   ]
  },
  {
   "cell_type": "code",
   "execution_count": 15,
   "id": "601d8361",
   "metadata": {},
   "outputs": [
    {
     "data": {
      "text/plain": [
       "LogisticRegression()"
      ]
     },
     "execution_count": 15,
     "metadata": {},
     "output_type": "execute_result"
    }
   ],
   "source": [
    "from sklearn.linear_model import LogisticRegression\n",
    "LOR = LogisticRegression()\n",
    "LOR.fit(X_train,y_train)"
   ]
  },
  {
   "cell_type": "code",
   "execution_count": 16,
   "id": "ceef1e3b",
   "metadata": {},
   "outputs": [
    {
     "data": {
      "text/plain": [
       "array([0, 0, 0, 0, 1, 1, 0, 0, 0, 1, 0, 1, 0, 0, 0, 0, 0, 0, 0, 0, 1, 0,\n",
       "       0, 0, 0, 0, 0, 0, 0, 0, 0, 1, 0, 0, 1, 0, 1, 0, 1, 0, 0, 1, 1, 0,\n",
       "       0, 0, 1, 0, 1, 1, 0, 1, 1, 0, 0, 0, 1, 0, 0, 0, 0, 0, 1, 0, 0, 0,\n",
       "       0, 0, 0, 0, 0, 0, 1, 0, 0, 1, 1, 0, 0, 0, 0, 0, 0, 0, 0, 0, 0, 0,\n",
       "       0, 0, 0, 0, 0, 0, 0, 0, 0, 0, 0, 0, 1, 0, 0, 0, 0, 0, 0, 0, 0, 0,\n",
       "       0, 0, 0, 0, 0, 0, 0, 0, 0, 0, 0, 0, 0, 0, 0, 1, 0, 1, 0, 0, 0, 0,\n",
       "       0, 0, 0, 0, 0, 0, 1, 0, 0, 0, 0, 0, 0, 0, 0, 0, 0, 1, 0, 1, 0, 0,\n",
       "       0, 1, 0, 1, 1, 0, 0, 1, 0, 0, 0, 0, 0, 0, 0, 0, 0, 0, 0, 0, 0, 0,\n",
       "       0, 1, 0, 0, 1, 0, 0, 0, 0, 0, 0, 0, 1, 0, 0, 0], dtype=int64)"
      ]
     },
     "execution_count": 16,
     "metadata": {},
     "output_type": "execute_result"
    }
   ],
   "source": [
    "LOR.predict(X_test)"
   ]
  },
  {
   "cell_type": "markdown",
   "id": "7665f8cf",
   "metadata": {},
   "source": [
    "##### PRINT MODEL PARAMETER VALUES: COEF_ AND INTERCEPT_"
   ]
  },
  {
   "cell_type": "code",
   "execution_count": 17,
   "id": "0d454bd2",
   "metadata": {},
   "outputs": [
    {
     "data": {
      "text/plain": [
       "array([[0.05221912]])"
      ]
     },
     "execution_count": 17,
     "metadata": {},
     "output_type": "execute_result"
    }
   ],
   "source": [
    "LOR.coef_"
   ]
  },
  {
   "cell_type": "code",
   "execution_count": 18,
   "id": "4f855687",
   "metadata": {},
   "outputs": [
    {
     "data": {
      "text/plain": [
       "array([-2.39506398])"
      ]
     },
     "execution_count": 18,
     "metadata": {},
     "output_type": "execute_result"
    }
   ],
   "source": [
    "LOR.intercept_"
   ]
  },
  {
   "cell_type": "markdown",
   "id": "a43b7783",
   "metadata": {},
   "source": [
    "##### QUERY: A PERSON IS 60 YEARS OLD, WILL HE BE DIABETIC ?"
   ]
  },
  {
   "cell_type": "code",
   "execution_count": 19,
   "id": "d0da7da7",
   "metadata": {},
   "outputs": [
    {
     "data": {
      "text/plain": [
       "array([1], dtype=int64)"
      ]
     },
     "execution_count": 19,
     "metadata": {},
     "output_type": "execute_result"
    }
   ],
   "source": [
    "LOR.predict([[60]])"
   ]
  },
  {
   "cell_type": "code",
   "execution_count": 20,
   "id": "ef8d1eb8",
   "metadata": {},
   "outputs": [
    {
     "data": {
      "text/plain": [
       "array([[0.67657656]])"
      ]
     },
     "execution_count": 20,
     "metadata": {},
     "output_type": "execute_result"
    }
   ],
   "source": [
    "lrf = LOR.coef_ * 60 + LOR.intercept_\n",
    "from scipy.special import expit\n",
    "expit(lrf)"
   ]
  },
  {
   "cell_type": "markdown",
   "id": "83677b20",
   "metadata": {},
   "source": [
    "__output > 0.5 , Yes A person with 60 years old will become diabetic__"
   ]
  },
  {
   "cell_type": "markdown",
   "id": "2e99a8ff",
   "metadata": {},
   "source": [
    "### STEP - 4: PREDICTION USING MANY FEATURES"
   ]
  },
  {
   "cell_type": "markdown",
   "id": "ffed10fa",
   "metadata": {},
   "source": [
    "##### SELECT THREE FEATURES 'GLUCOSE', 'BMI' AND 'AGE' FROM YOUR DATSET, CALL IT AS X"
   ]
  },
  {
   "cell_type": "code",
   "execution_count": 21,
   "id": "e5fc9965",
   "metadata": {},
   "outputs": [],
   "source": [
    "X1 = df[['Glucose','BMI','Age']]\n",
    "y1 = df[['Outcome']]"
   ]
  },
  {
   "cell_type": "markdown",
   "id": "3c5fd0c1",
   "metadata": {},
   "source": [
    "##### CREATE A NEW LOGISTIC REGRESSION MODEL, TRAIN WITH X AND 'OUTCOME' AS Y"
   ]
  },
  {
   "cell_type": "code",
   "execution_count": 22,
   "id": "59f78d7d",
   "metadata": {},
   "outputs": [],
   "source": [
    "from sklearn.model_selection import train_test_split\n",
    "X1_train, X1_test, y1_train, y1_test = train_test_split(X1, y1, test_size = 0.25, random_state=42)"
   ]
  },
  {
   "cell_type": "code",
   "execution_count": 23,
   "id": "753d6d6a",
   "metadata": {},
   "outputs": [
    {
     "data": {
      "text/plain": [
       "LogisticRegression()"
      ]
     },
     "execution_count": 23,
     "metadata": {},
     "output_type": "execute_result"
    }
   ],
   "source": [
    "LOR1 = LogisticRegression()\n",
    "LOR1.fit(X1_train, y1_train)"
   ]
  },
  {
   "cell_type": "code",
   "execution_count": 24,
   "id": "bf3c89b6",
   "metadata": {},
   "outputs": [
    {
     "data": {
      "text/plain": [
       "array([0, 0, 0, 0, 1, 1, 0, 0, 1, 1, 0, 1, 0, 0, 0, 0, 0, 0, 1, 1, 0, 0,\n",
       "       0, 0, 1, 1, 0, 0, 0, 0, 1, 1, 1, 1, 1, 1, 1, 0, 0, 1, 0, 1, 1, 0,\n",
       "       0, 1, 1, 0, 0, 1, 0, 1, 1, 0, 0, 0, 1, 0, 0, 1, 1, 0, 0, 0, 0, 1,\n",
       "       0, 1, 0, 1, 1, 0, 0, 0, 0, 1, 0, 0, 0, 0, 1, 0, 0, 1, 0, 1, 1, 0,\n",
       "       0, 0, 0, 0, 0, 0, 0, 1, 0, 0, 1, 0, 1, 0, 1, 1, 1, 0, 0, 1, 0, 0,\n",
       "       0, 0, 0, 1, 0, 0, 1, 0, 0, 0, 0, 0, 0, 0, 0, 0, 0, 1, 1, 1, 1, 1,\n",
       "       0, 0, 1, 0, 0, 1, 1, 0, 0, 0, 0, 1, 0, 0, 0, 0, 0, 1, 0, 0, 0, 0,\n",
       "       0, 0, 0, 1, 1, 0, 0, 1, 0, 0, 0, 1, 0, 0, 1, 0, 1, 0, 0, 1, 1, 0,\n",
       "       0, 0, 0, 0, 1, 1, 0, 1, 1, 0, 0, 0, 1, 0, 0, 0], dtype=int64)"
      ]
     },
     "execution_count": 24,
     "metadata": {},
     "output_type": "execute_result"
    }
   ],
   "source": [
    "LOR1.predict(X1_test)"
   ]
  },
  {
   "cell_type": "markdown",
   "id": "17c1c3ac",
   "metadata": {},
   "source": [
    "##### QUERY: FOR A PERSON, GLUCOSE =150, BMI = 30, AGE =40. WILL HE BECOME DIABETIC?"
   ]
  },
  {
   "cell_type": "code",
   "execution_count": 25,
   "id": "5aea5505",
   "metadata": {},
   "outputs": [
    {
     "data": {
      "text/plain": [
       "array([[0.03326879, 0.09717039, 0.04404934]])"
      ]
     },
     "execution_count": 25,
     "metadata": {},
     "output_type": "execute_result"
    }
   ],
   "source": [
    " LOR1.coef_"
   ]
  },
  {
   "cell_type": "code",
   "execution_count": 26,
   "id": "a7bb7cb0",
   "metadata": {},
   "outputs": [
    {
     "data": {
      "text/plain": [
       "array([-9.47396587])"
      ]
     },
     "execution_count": 26,
     "metadata": {},
     "output_type": "execute_result"
    }
   ],
   "source": [
    "LOR1.intercept_"
   ]
  },
  {
   "cell_type": "code",
   "execution_count": 27,
   "id": "92e00213",
   "metadata": {},
   "outputs": [
    {
     "data": {
      "text/plain": [
       "array([[1., 1., 1.]])"
      ]
     },
     "execution_count": 27,
     "metadata": {},
     "output_type": "execute_result"
    }
   ],
   "source": [
    "lrf1 = LOR1.coef_ * 150*30*40 + LOR1.intercept_\n",
    "from scipy.special import expit\n",
    "expit(lrf1)"
   ]
  },
  {
   "cell_type": "code",
   "execution_count": 28,
   "id": "2aee5f39",
   "metadata": {},
   "outputs": [
    {
     "data": {
      "text/plain": [
       "array([[0.45179089, 0.54820911]])"
      ]
     },
     "execution_count": 28,
     "metadata": {},
     "output_type": "execute_result"
    }
   ],
   "source": [
    "LOR1.predict_proba([[150,30,40]])"
   ]
  },
  {
   "cell_type": "code",
   "execution_count": 29,
   "id": "99cdb4fa",
   "metadata": {},
   "outputs": [
    {
     "data": {
      "text/plain": [
       "array([1], dtype=int64)"
      ]
     },
     "execution_count": 29,
     "metadata": {},
     "output_type": "execute_result"
    }
   ],
   "source": [
    "LOR1.predict([[150,30,40]])"
   ]
  },
  {
   "cell_type": "markdown",
   "id": "14a9fa81",
   "metadata": {},
   "source": [
    "__A person with Glucose =150, BMI=30, Age=40 will become DIABETIC__"
   ]
  },
  {
   "cell_type": "markdown",
   "id": "071a47f5",
   "metadata": {},
   "source": [
    "### STEP - 5 : BUILD LOR MODEL WITH ALL FEATURES"
   ]
  },
  {
   "cell_type": "markdown",
   "id": "a3b75c4a",
   "metadata": {},
   "source": [
    "##### CREATE LOR MODEL, TRAIN IT WITH X_TRAIN AND Y_TRAIN VALUES"
   ]
  },
  {
   "cell_type": "code",
   "execution_count": 30,
   "id": "10a640e0",
   "metadata": {},
   "outputs": [],
   "source": [
    "X2 = df.drop(['Outcome'],axis =1)\n",
    "y2 = df[['Outcome']]"
   ]
  },
  {
   "cell_type": "code",
   "execution_count": 31,
   "id": "2f26e276",
   "metadata": {},
   "outputs": [],
   "source": [
    "from sklearn.model_selection import train_test_split\n",
    "X2_train, X2_test, y2_train, y2_test = train_test_split(X2, y2, test_size = 0.25, random_state=42)"
   ]
  },
  {
   "cell_type": "code",
   "execution_count": 32,
   "id": "0433dc2b",
   "metadata": {},
   "outputs": [
    {
     "data": {
      "text/plain": [
       "LogisticRegression()"
      ]
     },
     "execution_count": 32,
     "metadata": {},
     "output_type": "execute_result"
    }
   ],
   "source": [
    "LOR2 = LogisticRegression()\n",
    "LOR2.fit(X2_train, y2_train)"
   ]
  },
  {
   "cell_type": "code",
   "execution_count": 33,
   "id": "1062d6e9",
   "metadata": {},
   "outputs": [],
   "source": [
    "y2_pred = LOR2.predict(X2_test)"
   ]
  },
  {
   "cell_type": "markdown",
   "id": "1dc73045",
   "metadata": {},
   "source": [
    "##### AUC SCORE"
   ]
  },
  {
   "cell_type": "code",
   "execution_count": 34,
   "id": "e66c05d5",
   "metadata": {},
   "outputs": [
    {
     "data": {
      "text/plain": [
       "0.7122658183103571"
      ]
     },
     "execution_count": 34,
     "metadata": {},
     "output_type": "execute_result"
    }
   ],
   "source": [
    "from sklearn.metrics import roc_auc_score\n",
    "lor_auc3 = roc_auc_score(y2_test, y2_pred)\n",
    "lor_auc3"
   ]
  },
  {
   "cell_type": "markdown",
   "id": "b00c1e41",
   "metadata": {},
   "source": [
    "### STEP - 6 : [FORWARD SELECTION PROCEDURE]"
   ]
  },
  {
   "cell_type": "markdown",
   "id": "0bc7079c",
   "metadata": {},
   "source": [
    "#### FORWARD STEPWISE VARIABLE SELECTION PROCEDURE AND IMPLEMENTATION STEPS OF THE FORWARD STEPWISE PROCEDURE"
   ]
  },
  {
   "cell_type": "markdown",
   "id": "a58677e0",
   "metadata": {},
   "source": [
    "###### DEFINE A GET_AUC () THAT CALCULATES AUC GIVEN  A CERTAIN SET OF VARIABLES"
   ]
  },
  {
   "cell_type": "code",
   "execution_count": 35,
   "id": "66e4956f",
   "metadata": {},
   "outputs": [
    {
     "data": {
      "text/plain": [
       "0.8109328358208956"
      ]
     },
     "execution_count": 35,
     "metadata": {},
     "output_type": "execute_result"
    }
   ],
   "source": [
    "def get_auc (var, tar, df):\n",
    "    fX = df[var]\n",
    "    fy = df[tar]\n",
    "    LOR4 = LogisticRegression()\n",
    "    LOR4.fit(fX,fy)\n",
    "    pred = LOR4.predict_proba(fX)[:,1]\n",
    "    auc_val = roc_auc_score(y2, pred)\n",
    "    return auc_val\n",
    "\n",
    "get_auc(['Glucose', 'BMI'],['Outcome'],df)"
   ]
  },
  {
   "cell_type": "code",
   "execution_count": 36,
   "id": "a8a4db2f",
   "metadata": {
    "scrolled": true
   },
   "outputs": [
    {
     "data": {
      "text/plain": [
       "0.6444962686567164"
      ]
     },
     "execution_count": 36,
     "metadata": {},
     "output_type": "execute_result"
    }
   ],
   "source": [
    "get_auc(['Pregnancies','BloodPressure', 'SkinThickness'],['Outcome'],df)"
   ]
  },
  {
   "cell_type": "markdown",
   "id": "b82df46a",
   "metadata": {},
   "source": [
    "##### DEFINE A FUNCTION BEST_NEXT() THAT RETURNS NEXT VARIABLE I  COMIBINATION WITH CURRENT VARIABLES"
   ]
  },
  {
   "cell_type": "code",
   "execution_count": 37,
   "id": "efdfd278",
   "metadata": {},
   "outputs": [],
   "source": [
    "def next_best(current, cand, tar, df):\n",
    "    best_auc = -1\n",
    "    best_var = None\n",
    "    for i in cand:\n",
    "        auc_v = get_auc(current+[i], tar, df)\n",
    "        if auc_v >= best_auc:\n",
    "            best_auc = auc_v\n",
    "            best_var = i\n",
    "    return best_var"
   ]
  },
  {
   "cell_type": "code",
   "execution_count": 38,
   "id": "74749459",
   "metadata": {},
   "outputs": [
    {
     "name": "stdout",
     "output_type": "stream",
     "text": [
      "Glucose\n"
     ]
    }
   ],
   "source": [
    "tar = ['Outcome']\n",
    "current = ['Insulin','BMI', 'DiabetesPedigreeFunction', 'Age']\n",
    "cand = ['Pregnancies', 'Glucose','BloodPressure', 'SkinThickness']\n",
    "next_var = next_best(current, cand, tar, df)\n",
    "print(next_var)"
   ]
  },
  {
   "cell_type": "code",
   "execution_count": 39,
   "id": "df9bba14",
   "metadata": {},
   "outputs": [
    {
     "name": "stdout",
     "output_type": "stream",
     "text": [
      "Variable added in Step 1 is Glucose.\n",
      "Variable added in Step 2 is BMI.\n",
      "Variable added in Step 3 is Pregnancies.\n",
      "Variable added in Step 4 is DiabetesPedigreeFunction.\n",
      "Variable added in Step 5 is BloodPressure.\n",
      "Variable added in Step 6 is Age.\n",
      "Variable added in Step 7 is SkinThickness.\n"
     ]
    }
   ],
   "source": [
    "tar = [\"Outcome\"]\n",
    "current =[]\n",
    "cand =['Pregnancies', 'Glucose', 'BloodPressure', 'SkinThickness', 'Insulin', 'BMI', 'DiabetesPedigreeFunction', 'Age']\n",
    "max_num = 7\n",
    "num_it = min(max_num, len(cand))\n",
    "for i in range(0, num_it):\n",
    "    next_var = next_best(current, cand, tar, df)\n",
    "    current += [next_var]\n",
    "    cand.remove(next_var)\n",
    "    print(\"Variable added in Step \"+str(i+1) +' is ' + next_var +\".\")\n",
    "\n",
    "    "
   ]
  },
  {
   "cell_type": "code",
   "execution_count": 40,
   "id": "43a2ce10",
   "metadata": {},
   "outputs": [
    {
     "name": "stdout",
     "output_type": "stream",
     "text": [
      "['Glucose', 'BMI', 'Pregnancies', 'DiabetesPedigreeFunction', 'BloodPressure', 'Age', 'SkinThickness']\n"
     ]
    }
   ],
   "source": [
    "print(current)"
   ]
  },
  {
   "cell_type": "markdown",
   "id": "4d154c88",
   "metadata": {},
   "source": [
    "### STEP - 7 : PLOT LINE GRAPH OF AUC VALUES AND SELCECT CUT-OFF"
   ]
  },
  {
   "cell_type": "markdown",
   "id": "195152d7",
   "metadata": {},
   "source": [
    "###### SPLIT YOUR DATASET EQUALLY FOR TRAINING AND TESTING"
   ]
  },
  {
   "cell_type": "code",
   "execution_count": 41,
   "id": "3208f276",
   "metadata": {},
   "outputs": [],
   "source": [
    "X2_train, X2_test, y2_train, y2_test = train_test_split(X2, y2 , stratify =y2, test_size = 0.5, random_state=42)"
   ]
  },
  {
   "cell_type": "code",
   "execution_count": 42,
   "id": "8864f799",
   "metadata": {},
   "outputs": [],
   "source": [
    "prediction = LOR2.predict_proba(X2_test)\n"
   ]
  },
  {
   "cell_type": "markdown",
   "id": "2f45cd77",
   "metadata": {},
   "source": [
    "###### PLOT AUC VALUES FOR EACH VARIABLE. "
   ]
  },
  {
   "cell_type": "code",
   "execution_count": 43,
   "id": "064908ac",
   "metadata": {},
   "outputs": [],
   "source": [
    "train = pd.concat([X2_train, y2_train], axis =1)\n",
    "test = pd.concat([X2_test, y2_test], axis =1)"
   ]
  },
  {
   "cell_type": "code",
   "execution_count": 44,
   "id": "ed7b2d1d",
   "metadata": {},
   "outputs": [],
   "source": [
    "def auc_train_test (variables, target, train, test):\n",
    "    X_train = train [variables]\n",
    "    X_test = test[variables]\n",
    "    Y_train = train[target]\n",
    "    Y_test = test[target]\n",
    "    LOR3 = LogisticRegression()\n",
    "    \n",
    "    LOR3.fit(X_train, Y_train)\n",
    "    \n",
    "    predictions_train = LOR3.predict_proba(X_train)[:,1]\n",
    "    predictions_test = LOR3.predict_proba(X_test)[:,1]\n",
    "    \n",
    "    auc_train = roc_auc_score(Y_train, predictions_train)\n",
    "    auc_test = roc_auc_score(Y_train, predictions_test)\n",
    "    \n",
    "    return (auc_train, auc_test)"
   ]
  },
  {
   "cell_type": "code",
   "execution_count": 45,
   "id": "2b0e2b9c",
   "metadata": {},
   "outputs": [],
   "source": [
    "auc_values_train =[]\n",
    "auc_values_test =[]\n",
    "variables_evaluate=[]\n",
    "\n",
    "for v in X2.columns:\n",
    "    variables_evaluate.append(v)\n",
    "    \n",
    "    auc_train, auc_test = auc_train_test(variables_evaluate, ['Outcome'],train,test)\n",
    "    \n",
    "    auc_values_train.append(auc_train)\n",
    "    auc_values_test.append(auc_test)"
   ]
  },
  {
   "cell_type": "code",
   "execution_count": 46,
   "id": "32f872bb",
   "metadata": {},
   "outputs": [
    {
     "data": {
      "image/png": "[encoded data removed]",
      "text/plain": [
       "<Figure size 432x288 with 1 Axes>"
      ]
     },
     "metadata": {
      "needs_background": "light"
     },
     "output_type": "display_data"
    }
   ],
   "source": [
    "import matplotlib.pyplot as plt\n",
    "import numpy as np\n",
    "\n",
    "x = np.array(range(0,len(auc_values_train)))\n",
    "my_train = np.array(auc_values_train)\n",
    "my_test = np.array(auc_values_test)\n",
    "\n",
    "plt.xticks(x, X2.columns, rotation =90)\n",
    "\n",
    "\n",
    "plt.plot(x, my_train)\n",
    "plt.plot(x, my_test)\n",
    "plt.ylim(0.5, 1)\n",
    "plt.show()"
   ]
  },
  {
   "cell_type": "markdown",
   "id": "feaf3499",
   "metadata": {},
   "source": [
    "### STEP - 8 : DRAW CUMULATIVE GAIN CHART AND LIFT CHART"
   ]
  },
  {
   "cell_type": "code",
   "execution_count": 47,
   "id": "4cf9f22a",
   "metadata": {},
   "outputs": [
    {
     "name": "stdout",
     "output_type": "stream",
     "text": [
      "Requirement already satisfied: scikit-plot in c:\\users\\nivet\\anaconda\\lib\\site-packages (0.3.7)\n",
      "Requirement already satisfied: joblib>=0.10 in c:\\users\\nivet\\anaconda\\lib\\site-packages (from scikit-plot) (1.0.1)\n",
      "Requirement already satisfied: scipy>=0.9 in c:\\users\\nivet\\anaconda\\lib\\site-packages (from scikit-plot) (1.6.2)\n",
      "Requirement already satisfied: scikit-learn>=0.18 in c:\\users\\nivet\\anaconda\\lib\\site-packages (from scikit-plot) (0.24.1)\n",
      "Requirement already satisfied: matplotlib>=1.4.0 in c:\\users\\nivet\\anaconda\\lib\\site-packages (from scikit-plot) (3.3.4)\n",
      "Requirement already satisfied: kiwisolver>=1.0.1 in c:\\users\\nivet\\anaconda\\lib\\site-packages (from matplotlib>=1.4.0->scikit-plot) (1.3.1)\n",
      "Requirement already satisfied: numpy>=1.15 in c:\\users\\nivet\\anaconda\\lib\\site-packages (from matplotlib>=1.4.0->scikit-plot) (1.20.1)\n",
      "Requirement already satisfied: python-dateutil>=2.1 in c:\\users\\nivet\\anaconda\\lib\\site-packages (from matplotlib>=1.4.0->scikit-plot) (2.8.1)\n",
      "Requirement already satisfied: cycler>=0.10 in c:\\users\\nivet\\anaconda\\lib\\site-packages (from matplotlib>=1.4.0->scikit-plot) (0.10.0)\n",
      "Requirement already satisfied: pillow>=6.2.0 in c:\\users\\nivet\\anaconda\\lib\\site-packages (from matplotlib>=1.4.0->scikit-plot) (8.2.0)\n",
      "Requirement already satisfied: pyparsing!=2.0.4,!=2.1.2,!=2.1.6,>=2.0.3 in c:\\users\\nivet\\anaconda\\lib\\site-packages (from matplotlib>=1.4.0->scikit-plot) (2.4.7)\n",
      "Requirement already satisfied: six in c:\\users\\nivet\\anaconda\\lib\\site-packages (from cycler>=0.10->matplotlib>=1.4.0->scikit-plot) (1.15.0)\n",
      "Requirement already satisfied: threadpoolctl>=2.0.0 in c:\\users\\nivet\\anaconda\\lib\\site-packages (from scikit-learn>=0.18->scikit-plot) (2.1.0)\n"
     ]
    }
   ],
   "source": [
    "! pip install scikit-plot"
   ]
  },
  {
   "cell_type": "code",
   "execution_count": 48,
   "id": "7ef0a83b",
   "metadata": {},
   "outputs": [
    {
     "data": {
      "image/png": "[encoded data removed]",
      "text/plain": [
       "<Figure size 432x288 with 1 Axes>"
      ]
     },
     "metadata": {
      "needs_background": "light"
     },
     "output_type": "display_data"
    },
    {
     "data": {
      "text/plain": [
       "<Figure size 504x504 with 0 Axes>"
      ]
     },
     "metadata": {},
     "output_type": "display_data"
    },
    {
     "data": {
      "image/png": "[encoded data removed]",
      "text/plain": [
       "<Figure size 432x288 with 1 Axes>"
      ]
     },
     "metadata": {
      "needs_background": "light"
     },
     "output_type": "display_data"
    }
   ],
   "source": [
    "import scikitplot as skplt\n",
    "skplt.metrics.plot_cumulative_gain(y2_test, prediction)\n",
    "plt.show()\n",
    "\n",
    "plt.figure(figsize=(7,7))\n",
    "skplt.metrics.plot_lift_curve(y2_test, prediction)\n",
    "plt.show()"
   ]
  }
 ],
 "metadata": {
  "kernelspec": {
   "display_name": "Python 3",
   "language": "python",
   "name": "python3"
  },
  "language_info": {
   "codemirror_mode": {
    "name": "ipython",
    "version": 3
   },
   "file_extension": ".py",
   "mimetype": "text/x-python",
   "name": "python",
   "nbconvert_exporter": "python",
   "pygments_lexer": "ipython3",
   "version": "3.8.8"
  }
 },
 "nbformat": 4,
 "nbformat_minor": 5
}
